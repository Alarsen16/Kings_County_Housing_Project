{
 "cells": [
  {
   "cell_type": "code",
   "execution_count": 121,
   "metadata": {},
   "outputs": [],
   "source": [
    "# Will use this codeblock to import all modules we'll need for our analysis.\n",
    "\n",
    "import pandas as pd\n",
    "import numpy as np\n",
    "import seaborn as sns\n",
    "import matplotlib.pyplot as plt\n",
    "import statsmodels.api as sm\n",
    "from sklearn.dummy import DummyRegressor\n",
    "from sklearn import preprocessing\n",
    "from sklearn.preprocessing import OrdinalEncoder\n",
    "from sklearn.preprocessing import OneHotEncoder\n",
    "from sklearn.model_selection import train_test_split\n",
    "from sklearn.linear_model import LinearRegression\n",
    "from sklearn.preprocessing import StandardScaler\n",
    "from sklearn.feature_selection import RFE\n",
    "from sklearn.feature_selection import RFECV\n",
    "from sklearn.metrics import mean_squared_error\n",
    "from statsmodels.formula.api import ols"
   ]
  },
  {
   "cell_type": "code",
   "execution_count": 122,
   "metadata": {},
   "outputs": [
    {
     "name": "stdout",
     "output_type": "stream",
     "text": [
      "ALarsen_workbook.ipynb          Mreinhart_notebook.ipynb\r\n",
      "Baseline and simple model.ipynb Python.gitignore\r\n",
      "MSchor_notebook.ipynb           README.md\r\n",
      "Mendys_notebook.ipynb           \u001b[34mdata\u001b[m\u001b[m\r\n"
     ]
    }
   ],
   "source": [
    "!ls\n",
    "# Used this to locate the file path to import the data."
   ]
  },
  {
   "cell_type": "code",
   "execution_count": 123,
   "metadata": {},
   "outputs": [
    {
     "data": {
      "text/html": [
       "<div>\n",
       "<style scoped>\n",
       "    .dataframe tbody tr th:only-of-type {\n",
       "        vertical-align: middle;\n",
       "    }\n",
       "\n",
       "    .dataframe tbody tr th {\n",
       "        vertical-align: top;\n",
       "    }\n",
       "\n",
       "    .dataframe thead th {\n",
       "        text-align: right;\n",
       "    }\n",
       "</style>\n",
       "<table border=\"1\" class=\"dataframe\">\n",
       "  <thead>\n",
       "    <tr style=\"text-align: right;\">\n",
       "      <th></th>\n",
       "      <th>id</th>\n",
       "      <th>date</th>\n",
       "      <th>price</th>\n",
       "      <th>bedrooms</th>\n",
       "      <th>bathrooms</th>\n",
       "      <th>sqft_living</th>\n",
       "      <th>sqft_lot</th>\n",
       "      <th>floors</th>\n",
       "      <th>waterfront</th>\n",
       "      <th>view</th>\n",
       "      <th>...</th>\n",
       "      <th>grade</th>\n",
       "      <th>sqft_above</th>\n",
       "      <th>sqft_basement</th>\n",
       "      <th>yr_built</th>\n",
       "      <th>yr_renovated</th>\n",
       "      <th>zipcode</th>\n",
       "      <th>lat</th>\n",
       "      <th>long</th>\n",
       "      <th>sqft_living15</th>\n",
       "      <th>sqft_lot15</th>\n",
       "    </tr>\n",
       "  </thead>\n",
       "  <tbody>\n",
       "    <tr>\n",
       "      <th>0</th>\n",
       "      <td>7129300520</td>\n",
       "      <td>10/13/2014</td>\n",
       "      <td>221900.0</td>\n",
       "      <td>3</td>\n",
       "      <td>1.00</td>\n",
       "      <td>1180</td>\n",
       "      <td>5650</td>\n",
       "      <td>1.0</td>\n",
       "      <td>NaN</td>\n",
       "      <td>NONE</td>\n",
       "      <td>...</td>\n",
       "      <td>7 Average</td>\n",
       "      <td>1180</td>\n",
       "      <td>0.0</td>\n",
       "      <td>1955</td>\n",
       "      <td>0.0</td>\n",
       "      <td>98178</td>\n",
       "      <td>47.5112</td>\n",
       "      <td>-122.257</td>\n",
       "      <td>1340</td>\n",
       "      <td>5650</td>\n",
       "    </tr>\n",
       "    <tr>\n",
       "      <th>1</th>\n",
       "      <td>6414100192</td>\n",
       "      <td>12/9/2014</td>\n",
       "      <td>538000.0</td>\n",
       "      <td>3</td>\n",
       "      <td>2.25</td>\n",
       "      <td>2570</td>\n",
       "      <td>7242</td>\n",
       "      <td>2.0</td>\n",
       "      <td>NO</td>\n",
       "      <td>NONE</td>\n",
       "      <td>...</td>\n",
       "      <td>7 Average</td>\n",
       "      <td>2170</td>\n",
       "      <td>400.0</td>\n",
       "      <td>1951</td>\n",
       "      <td>1991.0</td>\n",
       "      <td>98125</td>\n",
       "      <td>47.7210</td>\n",
       "      <td>-122.319</td>\n",
       "      <td>1690</td>\n",
       "      <td>7639</td>\n",
       "    </tr>\n",
       "    <tr>\n",
       "      <th>2</th>\n",
       "      <td>5631500400</td>\n",
       "      <td>2/25/2015</td>\n",
       "      <td>180000.0</td>\n",
       "      <td>2</td>\n",
       "      <td>1.00</td>\n",
       "      <td>770</td>\n",
       "      <td>10000</td>\n",
       "      <td>1.0</td>\n",
       "      <td>NO</td>\n",
       "      <td>NONE</td>\n",
       "      <td>...</td>\n",
       "      <td>6 Low Average</td>\n",
       "      <td>770</td>\n",
       "      <td>0.0</td>\n",
       "      <td>1933</td>\n",
       "      <td>NaN</td>\n",
       "      <td>98028</td>\n",
       "      <td>47.7379</td>\n",
       "      <td>-122.233</td>\n",
       "      <td>2720</td>\n",
       "      <td>8062</td>\n",
       "    </tr>\n",
       "    <tr>\n",
       "      <th>3</th>\n",
       "      <td>2487200875</td>\n",
       "      <td>12/9/2014</td>\n",
       "      <td>604000.0</td>\n",
       "      <td>4</td>\n",
       "      <td>3.00</td>\n",
       "      <td>1960</td>\n",
       "      <td>5000</td>\n",
       "      <td>1.0</td>\n",
       "      <td>NO</td>\n",
       "      <td>NONE</td>\n",
       "      <td>...</td>\n",
       "      <td>7 Average</td>\n",
       "      <td>1050</td>\n",
       "      <td>910.0</td>\n",
       "      <td>1965</td>\n",
       "      <td>0.0</td>\n",
       "      <td>98136</td>\n",
       "      <td>47.5208</td>\n",
       "      <td>-122.393</td>\n",
       "      <td>1360</td>\n",
       "      <td>5000</td>\n",
       "    </tr>\n",
       "    <tr>\n",
       "      <th>4</th>\n",
       "      <td>1954400510</td>\n",
       "      <td>2/18/2015</td>\n",
       "      <td>510000.0</td>\n",
       "      <td>3</td>\n",
       "      <td>2.00</td>\n",
       "      <td>1680</td>\n",
       "      <td>8080</td>\n",
       "      <td>1.0</td>\n",
       "      <td>NO</td>\n",
       "      <td>NONE</td>\n",
       "      <td>...</td>\n",
       "      <td>8 Good</td>\n",
       "      <td>1680</td>\n",
       "      <td>0.0</td>\n",
       "      <td>1987</td>\n",
       "      <td>0.0</td>\n",
       "      <td>98074</td>\n",
       "      <td>47.6168</td>\n",
       "      <td>-122.045</td>\n",
       "      <td>1800</td>\n",
       "      <td>7503</td>\n",
       "    </tr>\n",
       "  </tbody>\n",
       "</table>\n",
       "<p>5 rows × 21 columns</p>\n",
       "</div>"
      ],
      "text/plain": [
       "           id        date     price  bedrooms  bathrooms  sqft_living  \\\n",
       "0  7129300520  10/13/2014  221900.0         3       1.00         1180   \n",
       "1  6414100192   12/9/2014  538000.0         3       2.25         2570   \n",
       "2  5631500400   2/25/2015  180000.0         2       1.00          770   \n",
       "3  2487200875   12/9/2014  604000.0         4       3.00         1960   \n",
       "4  1954400510   2/18/2015  510000.0         3       2.00         1680   \n",
       "\n",
       "   sqft_lot  floors waterfront  view  ...          grade sqft_above  \\\n",
       "0      5650     1.0        NaN  NONE  ...      7 Average       1180   \n",
       "1      7242     2.0         NO  NONE  ...      7 Average       2170   \n",
       "2     10000     1.0         NO  NONE  ...  6 Low Average        770   \n",
       "3      5000     1.0         NO  NONE  ...      7 Average       1050   \n",
       "4      8080     1.0         NO  NONE  ...         8 Good       1680   \n",
       "\n",
       "   sqft_basement yr_built  yr_renovated  zipcode      lat     long  \\\n",
       "0            0.0     1955           0.0    98178  47.5112 -122.257   \n",
       "1          400.0     1951        1991.0    98125  47.7210 -122.319   \n",
       "2            0.0     1933           NaN    98028  47.7379 -122.233   \n",
       "3          910.0     1965           0.0    98136  47.5208 -122.393   \n",
       "4            0.0     1987           0.0    98074  47.6168 -122.045   \n",
       "\n",
       "   sqft_living15  sqft_lot15  \n",
       "0           1340        5650  \n",
       "1           1690        7639  \n",
       "2           2720        8062  \n",
       "3           1360        5000  \n",
       "4           1800        7503  \n",
       "\n",
       "[5 rows x 21 columns]"
      ]
     },
     "execution_count": 123,
     "metadata": {},
     "output_type": "execute_result"
    }
   ],
   "source": [
    "# Setting variables for all the data sets.\n",
    "\n",
    "df = pd.read_csv('data/kc_house_data.csv')\n",
    "df.head()"
   ]
  },
  {
   "cell_type": "code",
   "execution_count": 124,
   "metadata": {
    "scrolled": true
   },
   "outputs": [
    {
     "name": "stdout",
     "output_type": "stream",
     "text": [
      "<class 'pandas.core.frame.DataFrame'>\n",
      "RangeIndex: 21597 entries, 0 to 21596\n",
      "Data columns (total 21 columns):\n",
      " #   Column         Non-Null Count  Dtype  \n",
      "---  ------         --------------  -----  \n",
      " 0   id             21597 non-null  int64  \n",
      " 1   date           21597 non-null  object \n",
      " 2   price          21597 non-null  float64\n",
      " 3   bedrooms       21597 non-null  int64  \n",
      " 4   bathrooms      21597 non-null  float64\n",
      " 5   sqft_living    21597 non-null  int64  \n",
      " 6   sqft_lot       21597 non-null  int64  \n",
      " 7   floors         21597 non-null  float64\n",
      " 8   waterfront     19221 non-null  object \n",
      " 9   view           21534 non-null  object \n",
      " 10  condition      21597 non-null  object \n",
      " 11  grade          21597 non-null  object \n",
      " 12  sqft_above     21597 non-null  int64  \n",
      " 13  sqft_basement  21597 non-null  object \n",
      " 14  yr_built       21597 non-null  int64  \n",
      " 15  yr_renovated   17755 non-null  float64\n",
      " 16  zipcode        21597 non-null  int64  \n",
      " 17  lat            21597 non-null  float64\n",
      " 18  long           21597 non-null  float64\n",
      " 19  sqft_living15  21597 non-null  int64  \n",
      " 20  sqft_lot15     21597 non-null  int64  \n",
      "dtypes: float64(6), int64(9), object(6)\n",
      "memory usage: 3.5+ MB\n"
     ]
    }
   ],
   "source": [
    "df.info()\n",
    "\n",
    "# Looks like there is some missing information in waterfront, view, yr_renovated. \n",
    "# Need to look into that of how we want to deal."
   ]
  },
  {
   "cell_type": "code",
   "execution_count": 125,
   "metadata": {},
   "outputs": [],
   "source": [
    "# Need a way to think about DATE/DATE SOLD. It isn't runnable in a linear regression.\n",
    "# We can think about it as a categorical value however not sure best way of doing so.\n"
   ]
  },
  {
   "cell_type": "code",
   "execution_count": 126,
   "metadata": {},
   "outputs": [
    {
     "name": "stdout",
     "output_type": "stream",
     "text": [
      "3842\n"
     ]
    }
   ],
   "source": [
    "print(df['yr_renovated'].isna().sum())\n",
    "df['yr_renovated'].value_counts()\n",
    "# Looks like most of the data is either 0 or null.\n",
    "# Wonder if we can use this data as a categorical value as in house was renovated\n",
    "# recently or not ie. 0 for no and 1 for yes.\n",
    "\n",
    "\n",
    "df['yr_renovated'].sort_values\n",
    "df['yr_renovated'] = df['yr_renovated'].fillna(0.0)"
   ]
  },
  {
   "cell_type": "code",
   "execution_count": 127,
   "metadata": {},
   "outputs": [
    {
     "name": "stdout",
     "output_type": "stream",
     "text": [
      "63\n"
     ]
    }
   ],
   "source": [
    "print(df['view'].isna().sum())\n",
    "df['view'].value_counts()\n",
    "\n",
    "# Original thought:\n",
    "# Only 63 missing values for view. Because we can't assume the view or assign it,\n",
    "# maybe we should just consider dropping this value?\n",
    "\n",
    "# Second thought and approach we're taking:\n",
    "# Given that NONE is basicaslly the same as NULL, assigning NaN values to NONE.\n",
    "\n",
    "df['view']=df['view'].fillna('NONE')"
   ]
  },
  {
   "cell_type": "code",
   "execution_count": 128,
   "metadata": {},
   "outputs": [
    {
     "name": "stdout",
     "output_type": "stream",
     "text": [
      "2376\n"
     ]
    },
    {
     "data": {
      "text/plain": [
       "0    21451\n",
       "1      146\n",
       "Name: waterfront, dtype: int64"
      ]
     },
     "execution_count": 128,
     "metadata": {},
     "output_type": "execute_result"
    }
   ],
   "source": [
    "print(df['waterfront'].isna().sum())\n",
    "df['waterfront'].value_counts()\n",
    "\n",
    "# Assumining NaN value is the same as having no waterfront.\n",
    "\n",
    "df['waterfront']=df['waterfront'].fillna('NO')\n",
    "\n",
    "# Turning these into values.\n",
    "\n",
    "waterfront = preprocessing.LabelEncoder()\n",
    "x1 = list(df['waterfront'])\n",
    "\n",
    "\n",
    "waterfront.fit(x1)\n",
    "waterfront_list = waterfront.transform(x1)\n",
    "df['waterfront'] = waterfront_list\n",
    "df['waterfront'].value_counts()\n",
    "\n",
    "\n",
    "# 0 is NO WATERFRONT\n",
    "# 1 is YES WATERFRONT\n",
    "\n"
   ]
  },
  {
   "cell_type": "code",
   "execution_count": 129,
   "metadata": {},
   "outputs": [
    {
     "name": "stdout",
     "output_type": "stream",
     "text": [
      "<class 'pandas.core.frame.DataFrame'>\n",
      "RangeIndex: 21597 entries, 0 to 21596\n",
      "Data columns (total 21 columns):\n",
      " #   Column         Non-Null Count  Dtype  \n",
      "---  ------         --------------  -----  \n",
      " 0   id             21597 non-null  int64  \n",
      " 1   date           21597 non-null  object \n",
      " 2   price          21597 non-null  float64\n",
      " 3   bedrooms       21597 non-null  int64  \n",
      " 4   bathrooms      21597 non-null  float64\n",
      " 5   sqft_living    21597 non-null  int64  \n",
      " 6   sqft_lot       21597 non-null  int64  \n",
      " 7   floors         21597 non-null  float64\n",
      " 8   waterfront     21597 non-null  int64  \n",
      " 9   view           21597 non-null  object \n",
      " 10  condition      21597 non-null  object \n",
      " 11  grade          21597 non-null  object \n",
      " 12  sqft_above     21597 non-null  int64  \n",
      " 13  sqft_basement  21597 non-null  object \n",
      " 14  yr_built       21597 non-null  int64  \n",
      " 15  yr_renovated   21597 non-null  float64\n",
      " 16  zipcode        21597 non-null  int64  \n",
      " 17  lat            21597 non-null  float64\n",
      " 18  long           21597 non-null  float64\n",
      " 19  sqft_living15  21597 non-null  int64  \n",
      " 20  sqft_lot15     21597 non-null  int64  \n",
      "dtypes: float64(6), int64(10), object(5)\n",
      "memory usage: 3.5+ MB\n"
     ]
    }
   ],
   "source": [
    "df.info()"
   ]
  },
  {
   "cell_type": "code",
   "execution_count": 130,
   "metadata": {},
   "outputs": [
    {
     "data": {
      "text/plain": [
       "0    21451\n",
       "1      146\n",
       "Name: waterfront, dtype: int64"
      ]
     },
     "execution_count": 130,
     "metadata": {},
     "output_type": "execute_result"
    }
   ],
   "source": [
    "waterfront = preprocessing.LabelEncoder()\n",
    "x1 = list(df['waterfront'])\n",
    "\n",
    "\n",
    "waterfront.fit(x1)\n",
    "waterfront_list = waterfront.transform(x1)\n",
    "df['waterfront'] = waterfront_list\n",
    "df['waterfront'].value_counts()\n",
    "\n",
    "\n",
    "# 0 is NO WATERFRONT\n",
    "# 1 is YES WATERFRONT\n"
   ]
  },
  {
   "cell_type": "code",
   "execution_count": 131,
   "metadata": {},
   "outputs": [
    {
     "data": {
      "text/html": [
       "<div>\n",
       "<style scoped>\n",
       "    .dataframe tbody tr th:only-of-type {\n",
       "        vertical-align: middle;\n",
       "    }\n",
       "\n",
       "    .dataframe tbody tr th {\n",
       "        vertical-align: top;\n",
       "    }\n",
       "\n",
       "    .dataframe thead th {\n",
       "        text-align: right;\n",
       "    }\n",
       "</style>\n",
       "<table border=\"1\" class=\"dataframe\">\n",
       "  <thead>\n",
       "    <tr style=\"text-align: right;\">\n",
       "      <th></th>\n",
       "      <th>id</th>\n",
       "      <th>price</th>\n",
       "      <th>bedrooms</th>\n",
       "      <th>bathrooms</th>\n",
       "      <th>sqft_living</th>\n",
       "      <th>sqft_lot</th>\n",
       "      <th>floors</th>\n",
       "      <th>waterfront</th>\n",
       "      <th>sqft_above</th>\n",
       "      <th>yr_built</th>\n",
       "      <th>yr_renovated</th>\n",
       "      <th>zipcode</th>\n",
       "      <th>lat</th>\n",
       "      <th>long</th>\n",
       "      <th>sqft_living15</th>\n",
       "      <th>sqft_lot15</th>\n",
       "    </tr>\n",
       "  </thead>\n",
       "  <tbody>\n",
       "    <tr>\n",
       "      <th>id</th>\n",
       "      <td>1.000000</td>\n",
       "      <td>-0.016772</td>\n",
       "      <td>0.001150</td>\n",
       "      <td>0.005162</td>\n",
       "      <td>-0.012241</td>\n",
       "      <td>-0.131911</td>\n",
       "      <td>0.018608</td>\n",
       "      <td>-0.003599</td>\n",
       "      <td>-0.010799</td>\n",
       "      <td>0.021617</td>\n",
       "      <td>-0.010612</td>\n",
       "      <td>-0.008211</td>\n",
       "      <td>-0.001798</td>\n",
       "      <td>0.020672</td>\n",
       "      <td>-0.002701</td>\n",
       "      <td>-0.138557</td>\n",
       "    </tr>\n",
       "    <tr>\n",
       "      <th>price</th>\n",
       "      <td>-0.016772</td>\n",
       "      <td>1.000000</td>\n",
       "      <td>0.308787</td>\n",
       "      <td>0.525906</td>\n",
       "      <td>0.701917</td>\n",
       "      <td>0.089876</td>\n",
       "      <td>0.256804</td>\n",
       "      <td>0.264306</td>\n",
       "      <td>0.605368</td>\n",
       "      <td>0.053953</td>\n",
       "      <td>0.117855</td>\n",
       "      <td>-0.053402</td>\n",
       "      <td>0.306692</td>\n",
       "      <td>0.022036</td>\n",
       "      <td>0.585241</td>\n",
       "      <td>0.082845</td>\n",
       "    </tr>\n",
       "    <tr>\n",
       "      <th>bedrooms</th>\n",
       "      <td>0.001150</td>\n",
       "      <td>0.308787</td>\n",
       "      <td>1.000000</td>\n",
       "      <td>0.514508</td>\n",
       "      <td>0.578212</td>\n",
       "      <td>0.032471</td>\n",
       "      <td>0.177944</td>\n",
       "      <td>-0.002127</td>\n",
       "      <td>0.479386</td>\n",
       "      <td>0.155670</td>\n",
       "      <td>0.017900</td>\n",
       "      <td>-0.154092</td>\n",
       "      <td>-0.009951</td>\n",
       "      <td>0.132054</td>\n",
       "      <td>0.393406</td>\n",
       "      <td>0.030690</td>\n",
       "    </tr>\n",
       "    <tr>\n",
       "      <th>bathrooms</th>\n",
       "      <td>0.005162</td>\n",
       "      <td>0.525906</td>\n",
       "      <td>0.514508</td>\n",
       "      <td>1.000000</td>\n",
       "      <td>0.755758</td>\n",
       "      <td>0.088373</td>\n",
       "      <td>0.502582</td>\n",
       "      <td>0.063629</td>\n",
       "      <td>0.686668</td>\n",
       "      <td>0.507173</td>\n",
       "      <td>0.047177</td>\n",
       "      <td>-0.204786</td>\n",
       "      <td>0.024280</td>\n",
       "      <td>0.224903</td>\n",
       "      <td>0.569884</td>\n",
       "      <td>0.088303</td>\n",
       "    </tr>\n",
       "    <tr>\n",
       "      <th>sqft_living</th>\n",
       "      <td>-0.012241</td>\n",
       "      <td>0.701917</td>\n",
       "      <td>0.578212</td>\n",
       "      <td>0.755758</td>\n",
       "      <td>1.000000</td>\n",
       "      <td>0.173453</td>\n",
       "      <td>0.353953</td>\n",
       "      <td>0.104637</td>\n",
       "      <td>0.876448</td>\n",
       "      <td>0.318152</td>\n",
       "      <td>0.051060</td>\n",
       "      <td>-0.199802</td>\n",
       "      <td>0.052155</td>\n",
       "      <td>0.241214</td>\n",
       "      <td>0.756402</td>\n",
       "      <td>0.184342</td>\n",
       "    </tr>\n",
       "    <tr>\n",
       "      <th>sqft_lot</th>\n",
       "      <td>-0.131911</td>\n",
       "      <td>0.089876</td>\n",
       "      <td>0.032471</td>\n",
       "      <td>0.088373</td>\n",
       "      <td>0.173453</td>\n",
       "      <td>1.000000</td>\n",
       "      <td>-0.004814</td>\n",
       "      <td>0.021459</td>\n",
       "      <td>0.184139</td>\n",
       "      <td>0.052946</td>\n",
       "      <td>0.004979</td>\n",
       "      <td>-0.129586</td>\n",
       "      <td>-0.085514</td>\n",
       "      <td>0.230227</td>\n",
       "      <td>0.144763</td>\n",
       "      <td>0.718204</td>\n",
       "    </tr>\n",
       "    <tr>\n",
       "      <th>floors</th>\n",
       "      <td>0.018608</td>\n",
       "      <td>0.256804</td>\n",
       "      <td>0.177944</td>\n",
       "      <td>0.502582</td>\n",
       "      <td>0.353953</td>\n",
       "      <td>-0.004814</td>\n",
       "      <td>1.000000</td>\n",
       "      <td>0.020797</td>\n",
       "      <td>0.523989</td>\n",
       "      <td>0.489193</td>\n",
       "      <td>0.003793</td>\n",
       "      <td>-0.059541</td>\n",
       "      <td>0.049239</td>\n",
       "      <td>0.125943</td>\n",
       "      <td>0.280102</td>\n",
       "      <td>-0.010722</td>\n",
       "    </tr>\n",
       "    <tr>\n",
       "      <th>waterfront</th>\n",
       "      <td>-0.003599</td>\n",
       "      <td>0.264306</td>\n",
       "      <td>-0.002127</td>\n",
       "      <td>0.063629</td>\n",
       "      <td>0.104637</td>\n",
       "      <td>0.021459</td>\n",
       "      <td>0.020797</td>\n",
       "      <td>1.000000</td>\n",
       "      <td>0.071778</td>\n",
       "      <td>-0.024487</td>\n",
       "      <td>0.073939</td>\n",
       "      <td>0.028923</td>\n",
       "      <td>-0.012157</td>\n",
       "      <td>-0.037628</td>\n",
       "      <td>0.083823</td>\n",
       "      <td>0.030658</td>\n",
       "    </tr>\n",
       "    <tr>\n",
       "      <th>sqft_above</th>\n",
       "      <td>-0.010799</td>\n",
       "      <td>0.605368</td>\n",
       "      <td>0.479386</td>\n",
       "      <td>0.686668</td>\n",
       "      <td>0.876448</td>\n",
       "      <td>0.184139</td>\n",
       "      <td>0.523989</td>\n",
       "      <td>0.071778</td>\n",
       "      <td>1.000000</td>\n",
       "      <td>0.424037</td>\n",
       "      <td>0.020645</td>\n",
       "      <td>-0.261570</td>\n",
       "      <td>-0.001199</td>\n",
       "      <td>0.344842</td>\n",
       "      <td>0.731767</td>\n",
       "      <td>0.195077</td>\n",
       "    </tr>\n",
       "    <tr>\n",
       "      <th>yr_built</th>\n",
       "      <td>0.021617</td>\n",
       "      <td>0.053953</td>\n",
       "      <td>0.155670</td>\n",
       "      <td>0.507173</td>\n",
       "      <td>0.318152</td>\n",
       "      <td>0.052946</td>\n",
       "      <td>0.489193</td>\n",
       "      <td>-0.024487</td>\n",
       "      <td>0.424037</td>\n",
       "      <td>1.000000</td>\n",
       "      <td>-0.202555</td>\n",
       "      <td>-0.347210</td>\n",
       "      <td>-0.148370</td>\n",
       "      <td>0.409993</td>\n",
       "      <td>0.326377</td>\n",
       "      <td>0.070777</td>\n",
       "    </tr>\n",
       "    <tr>\n",
       "      <th>yr_renovated</th>\n",
       "      <td>-0.010612</td>\n",
       "      <td>0.117855</td>\n",
       "      <td>0.017900</td>\n",
       "      <td>0.047177</td>\n",
       "      <td>0.051060</td>\n",
       "      <td>0.004979</td>\n",
       "      <td>0.003793</td>\n",
       "      <td>0.073939</td>\n",
       "      <td>0.020645</td>\n",
       "      <td>-0.202555</td>\n",
       "      <td>1.000000</td>\n",
       "      <td>0.062397</td>\n",
       "      <td>0.027970</td>\n",
       "      <td>-0.064543</td>\n",
       "      <td>0.000683</td>\n",
       "      <td>0.004286</td>\n",
       "    </tr>\n",
       "    <tr>\n",
       "      <th>zipcode</th>\n",
       "      <td>-0.008211</td>\n",
       "      <td>-0.053402</td>\n",
       "      <td>-0.154092</td>\n",
       "      <td>-0.204786</td>\n",
       "      <td>-0.199802</td>\n",
       "      <td>-0.129586</td>\n",
       "      <td>-0.059541</td>\n",
       "      <td>0.028923</td>\n",
       "      <td>-0.261570</td>\n",
       "      <td>-0.347210</td>\n",
       "      <td>0.062397</td>\n",
       "      <td>1.000000</td>\n",
       "      <td>0.266742</td>\n",
       "      <td>-0.564259</td>\n",
       "      <td>-0.279299</td>\n",
       "      <td>-0.147294</td>\n",
       "    </tr>\n",
       "    <tr>\n",
       "      <th>lat</th>\n",
       "      <td>-0.001798</td>\n",
       "      <td>0.306692</td>\n",
       "      <td>-0.009951</td>\n",
       "      <td>0.024280</td>\n",
       "      <td>0.052155</td>\n",
       "      <td>-0.085514</td>\n",
       "      <td>0.049239</td>\n",
       "      <td>-0.012157</td>\n",
       "      <td>-0.001199</td>\n",
       "      <td>-0.148370</td>\n",
       "      <td>0.027970</td>\n",
       "      <td>0.266742</td>\n",
       "      <td>1.000000</td>\n",
       "      <td>-0.135371</td>\n",
       "      <td>0.048679</td>\n",
       "      <td>-0.086139</td>\n",
       "    </tr>\n",
       "    <tr>\n",
       "      <th>long</th>\n",
       "      <td>0.020672</td>\n",
       "      <td>0.022036</td>\n",
       "      <td>0.132054</td>\n",
       "      <td>0.224903</td>\n",
       "      <td>0.241214</td>\n",
       "      <td>0.230227</td>\n",
       "      <td>0.125943</td>\n",
       "      <td>-0.037628</td>\n",
       "      <td>0.344842</td>\n",
       "      <td>0.409993</td>\n",
       "      <td>-0.064543</td>\n",
       "      <td>-0.564259</td>\n",
       "      <td>-0.135371</td>\n",
       "      <td>1.000000</td>\n",
       "      <td>0.335626</td>\n",
       "      <td>0.255586</td>\n",
       "    </tr>\n",
       "    <tr>\n",
       "      <th>sqft_living15</th>\n",
       "      <td>-0.002701</td>\n",
       "      <td>0.585241</td>\n",
       "      <td>0.393406</td>\n",
       "      <td>0.569884</td>\n",
       "      <td>0.756402</td>\n",
       "      <td>0.144763</td>\n",
       "      <td>0.280102</td>\n",
       "      <td>0.083823</td>\n",
       "      <td>0.731767</td>\n",
       "      <td>0.326377</td>\n",
       "      <td>0.000683</td>\n",
       "      <td>-0.279299</td>\n",
       "      <td>0.048679</td>\n",
       "      <td>0.335626</td>\n",
       "      <td>1.000000</td>\n",
       "      <td>0.183515</td>\n",
       "    </tr>\n",
       "    <tr>\n",
       "      <th>sqft_lot15</th>\n",
       "      <td>-0.138557</td>\n",
       "      <td>0.082845</td>\n",
       "      <td>0.030690</td>\n",
       "      <td>0.088303</td>\n",
       "      <td>0.184342</td>\n",
       "      <td>0.718204</td>\n",
       "      <td>-0.010722</td>\n",
       "      <td>0.030658</td>\n",
       "      <td>0.195077</td>\n",
       "      <td>0.070777</td>\n",
       "      <td>0.004286</td>\n",
       "      <td>-0.147294</td>\n",
       "      <td>-0.086139</td>\n",
       "      <td>0.255586</td>\n",
       "      <td>0.183515</td>\n",
       "      <td>1.000000</td>\n",
       "    </tr>\n",
       "  </tbody>\n",
       "</table>\n",
       "</div>"
      ],
      "text/plain": [
       "                     id     price  bedrooms  bathrooms  sqft_living  sqft_lot  \\\n",
       "id             1.000000 -0.016772  0.001150   0.005162    -0.012241 -0.131911   \n",
       "price         -0.016772  1.000000  0.308787   0.525906     0.701917  0.089876   \n",
       "bedrooms       0.001150  0.308787  1.000000   0.514508     0.578212  0.032471   \n",
       "bathrooms      0.005162  0.525906  0.514508   1.000000     0.755758  0.088373   \n",
       "sqft_living   -0.012241  0.701917  0.578212   0.755758     1.000000  0.173453   \n",
       "sqft_lot      -0.131911  0.089876  0.032471   0.088373     0.173453  1.000000   \n",
       "floors         0.018608  0.256804  0.177944   0.502582     0.353953 -0.004814   \n",
       "waterfront    -0.003599  0.264306 -0.002127   0.063629     0.104637  0.021459   \n",
       "sqft_above    -0.010799  0.605368  0.479386   0.686668     0.876448  0.184139   \n",
       "yr_built       0.021617  0.053953  0.155670   0.507173     0.318152  0.052946   \n",
       "yr_renovated  -0.010612  0.117855  0.017900   0.047177     0.051060  0.004979   \n",
       "zipcode       -0.008211 -0.053402 -0.154092  -0.204786    -0.199802 -0.129586   \n",
       "lat           -0.001798  0.306692 -0.009951   0.024280     0.052155 -0.085514   \n",
       "long           0.020672  0.022036  0.132054   0.224903     0.241214  0.230227   \n",
       "sqft_living15 -0.002701  0.585241  0.393406   0.569884     0.756402  0.144763   \n",
       "sqft_lot15    -0.138557  0.082845  0.030690   0.088303     0.184342  0.718204   \n",
       "\n",
       "                 floors  waterfront  sqft_above  yr_built  yr_renovated  \\\n",
       "id             0.018608   -0.003599   -0.010799  0.021617     -0.010612   \n",
       "price          0.256804    0.264306    0.605368  0.053953      0.117855   \n",
       "bedrooms       0.177944   -0.002127    0.479386  0.155670      0.017900   \n",
       "bathrooms      0.502582    0.063629    0.686668  0.507173      0.047177   \n",
       "sqft_living    0.353953    0.104637    0.876448  0.318152      0.051060   \n",
       "sqft_lot      -0.004814    0.021459    0.184139  0.052946      0.004979   \n",
       "floors         1.000000    0.020797    0.523989  0.489193      0.003793   \n",
       "waterfront     0.020797    1.000000    0.071778 -0.024487      0.073939   \n",
       "sqft_above     0.523989    0.071778    1.000000  0.424037      0.020645   \n",
       "yr_built       0.489193   -0.024487    0.424037  1.000000     -0.202555   \n",
       "yr_renovated   0.003793    0.073939    0.020645 -0.202555      1.000000   \n",
       "zipcode       -0.059541    0.028923   -0.261570 -0.347210      0.062397   \n",
       "lat            0.049239   -0.012157   -0.001199 -0.148370      0.027970   \n",
       "long           0.125943   -0.037628    0.344842  0.409993     -0.064543   \n",
       "sqft_living15  0.280102    0.083823    0.731767  0.326377      0.000683   \n",
       "sqft_lot15    -0.010722    0.030658    0.195077  0.070777      0.004286   \n",
       "\n",
       "                zipcode       lat      long  sqft_living15  sqft_lot15  \n",
       "id            -0.008211 -0.001798  0.020672      -0.002701   -0.138557  \n",
       "price         -0.053402  0.306692  0.022036       0.585241    0.082845  \n",
       "bedrooms      -0.154092 -0.009951  0.132054       0.393406    0.030690  \n",
       "bathrooms     -0.204786  0.024280  0.224903       0.569884    0.088303  \n",
       "sqft_living   -0.199802  0.052155  0.241214       0.756402    0.184342  \n",
       "sqft_lot      -0.129586 -0.085514  0.230227       0.144763    0.718204  \n",
       "floors        -0.059541  0.049239  0.125943       0.280102   -0.010722  \n",
       "waterfront     0.028923 -0.012157 -0.037628       0.083823    0.030658  \n",
       "sqft_above    -0.261570 -0.001199  0.344842       0.731767    0.195077  \n",
       "yr_built      -0.347210 -0.148370  0.409993       0.326377    0.070777  \n",
       "yr_renovated   0.062397  0.027970 -0.064543       0.000683    0.004286  \n",
       "zipcode        1.000000  0.266742 -0.564259      -0.279299   -0.147294  \n",
       "lat            0.266742  1.000000 -0.135371       0.048679   -0.086139  \n",
       "long          -0.564259 -0.135371  1.000000       0.335626    0.255586  \n",
       "sqft_living15 -0.279299  0.048679  0.335626       1.000000    0.183515  \n",
       "sqft_lot15    -0.147294 -0.086139  0.255586       0.183515    1.000000  "
      ]
     },
     "execution_count": 131,
     "metadata": {},
     "output_type": "execute_result"
    }
   ],
   "source": [
    "df.corr()"
   ]
  },
  {
   "cell_type": "code",
   "execution_count": 132,
   "metadata": {},
   "outputs": [
    {
     "data": {
      "text/plain": [
       "<AxesSubplot:>"
      ]
     },
     "execution_count": 132,
     "metadata": {},
     "output_type": "execute_result"
    },
    {
     "data": {
      "image/png": "[encoded data removed]",
      "text/plain": [
       "<Figure size 1440x720 with 2 Axes>"
      ]
     },
     "metadata": {
      "needs_background": "light"
     },
     "output_type": "display_data"
    }
   ],
   "source": [
    "plt.figure(figsize=(20, 10))\n",
    "sns.heatmap(data=df.corr(), annot=True)"
   ]
  },
  {
   "cell_type": "code",
   "execution_count": 133,
   "metadata": {},
   "outputs": [],
   "source": [
    "df.replace((\"?\", '0.0'), inplace=True)\n",
    "df['sqft_basement'] = df['sqft_basement'].astype(float)"
   ]
  },
  {
   "cell_type": "code",
   "execution_count": 134,
   "metadata": {},
   "outputs": [],
   "source": [
    "df['date'] = pd.to_datetime(df['date'])\n",
    "df['day_sold'] = df['date'].map(lambda x: x.day)\n",
    "df['month_sold'] = df['date'].map(lambda x: x.month)\n",
    "df['year_sold'] = df['date'].map(lambda x: x.year)\n",
    "df.drop('date', axis=1, inplace=True)"
   ]
  },
  {
   "cell_type": "code",
   "execution_count": 120,
   "metadata": {},
   "outputs": [],
   "source": [
    "df.view.replace({'NONE': 0, 'AVERAGE': 2, 'FAIR': 1, 'GOOD': 3, 'EXCELLENT': 4}, inplace=True)\n",
    "\n",
    "df.condition.replace({'Poor': 1, 'Average': 3, 'Fair': 2, 'Good': 4, 'Very Good': 5}, inplace=True)\n",
    "\n",
    "df.grade.replace({'7 Average': 7, '8 Good': 8, '9 Better': 9, '6 Low Average': 6, '10 Very Good': 10,\n",
    "                       '11 Excellent': 11, '5 Fair': 5, '12 Luxury': 12, '13 Mansion': 13, '3 Poor': 3,\n",
    "                        '4 Low': 4}, inplace=True)"
   ]
  },
  {
   "cell_type": "code",
   "execution_count": 135,
   "metadata": {},
   "outputs": [],
   "source": [
    "# view = OneHotEncoder(sparse=False, handle_unknown='ignore')\n",
    "# x2 = df[['view']]\n",
    "# view.fit(x2)\n",
    "# view.transform(x2)\n",
    "# view_array = view.transform(x2)\n",
    "# view_panda = pd.DataFrame(view_array, columns=('View_Average', 'View_Excellent', 'View_Fair', 'View_Good', 'View_None'), index=df.index)\n",
    "# df = pd.concat([df, view_panda], axis=1)\n",
    "# df"
   ]
  },
  {
   "cell_type": "code",
   "execution_count": 136,
   "metadata": {
    "scrolled": true
   },
   "outputs": [],
   "source": [
    "# condition = OneHotEncoder(sparse=False, handle_unknown='ignore')\n",
    "# X3 = df[['condition']]\n",
    "# condition.fit(X3)\n",
    "# condition.transform(X3)\n",
    "# condition_array = condition.transform(X3)\n",
    "# condition_panda = pd.DataFrame(condition_array, columns=('Cond_Average', \n",
    "#                                                          'Cond_Fair','Cond_Good','Cond_Poor','Cond_VeryGood'), index=df.index)\n",
    "# df = pd.concat([df, condition_panda], axis=1)\n"
   ]
  },
  {
   "cell_type": "code",
   "execution_count": 137,
   "metadata": {},
   "outputs": [],
   "source": [
    "# grade = OneHotEncoder(sparse=False, handle_unknown='ignore')\n",
    "# x4 = df[['grade']]\n",
    "# grade.fit(x4)\n",
    "# grade_array = grade.transform(x4)\n",
    "# grade_panda = pd.DataFrame(grade_array, columns= ('VeryGoodGrade','ExcellentGrade','LuxaryGrade','MansionGrade','PoorGrade',\n",
    "#                                                  'LowGrade','FairGrade','LowAvgGrade','AvgGrade',\n",
    "#                                                   'GoodGrade','BetterGrade'),index=df.index)\n",
    " \n",
    "# df = pd.concat([df, grade_panda], axis=1)\n"
   ]
  },
  {
   "cell_type": "code",
   "execution_count": 138,
   "metadata": {},
   "outputs": [],
   "source": [
    "# df.drop(columns='view', inplace=True)\n",
    "# df.drop(columns='condition', inplace=True)\n",
    "# df.drop(columns='grade', inplace=True)"
   ]
  },
  {
   "cell_type": "code",
   "execution_count": 139,
   "metadata": {},
   "outputs": [
    {
     "data": {
      "text/plain": [
       "-0.04565389000339315"
      ]
     },
     "execution_count": 139,
     "metadata": {},
     "output_type": "execute_result"
    }
   ],
   "source": [
    "X_new= df.drop(['price'],axis=1)\n",
    "y_new= df['price']\n",
    "x_train, x_test, y_train, y_test = train_test_split(X_new, y_new, random_state=100)\n",
    "\n",
    "baseline_model = DummyRegressor(strategy='median')\n",
    "baseline_model.fit(x_train, y_train)\n",
    "baseline_model.score(x_test, y_test)"
   ]
  },
  {
   "cell_type": "code",
   "execution_count": null,
   "metadata": {},
   "outputs": [],
   "source": []
  },
  {
   "cell_type": "markdown",
   "metadata": {},
   "source": [
    "# STANDARD SCALING"
   ]
  },
  {
   "cell_type": "code",
   "execution_count": 145,
   "metadata": {},
   "outputs": [],
   "source": [
    "numeric=['sqft_living','long','lat','sqft_lot','zipcode','bedrooms','bathrooms','floors']\n",
    "categorical=['condition','yr_renovated','yr_built','waterfront','id', 'view', 'grade']\n",
    "\n",
    "x_train_num= x_train[numeric]\n",
    "x_train_cat= x_train[categorical]"
   ]
  },
  {
   "cell_type": "code",
   "execution_count": 146,
   "metadata": {},
   "outputs": [],
   "source": [
    "ss=StandardScaler()\n",
    "ss.fit(x_train_num)\n",
    "x_train_num_scaled=ss.transform(x_train_num)\n",
    "x_pandas_scaled = pd.DataFrame(x_train_num_scaled, columns=numeric, index=x_train_cat.index)\n",
    "df_scaled = pd.concat((x_train_cat,x_pandas_scaled), axis=1)\n",
    "df_scaled = pd.concat((df_scaled, y_train), axis=1)"
   ]
  },
  {
   "cell_type": "code",
   "execution_count": 147,
   "metadata": {},
   "outputs": [
    {
     "name": "stdout",
     "output_type": "stream",
     "text": [
      "<class 'pandas.core.frame.DataFrame'>\n",
      "Int64Index: 16197 entries, 7152 to 5640\n",
      "Data columns (total 16 columns):\n",
      " #   Column        Non-Null Count  Dtype  \n",
      "---  ------        --------------  -----  \n",
      " 0   condition     16197 non-null  object \n",
      " 1   yr_renovated  16197 non-null  float64\n",
      " 2   yr_built      16197 non-null  int64  \n",
      " 3   waterfront    16197 non-null  int64  \n",
      " 4   id            16197 non-null  int64  \n",
      " 5   view          16197 non-null  object \n",
      " 6   grade         16197 non-null  object \n",
      " 7   sqft_living   16197 non-null  float64\n",
      " 8   long          16197 non-null  float64\n",
      " 9   lat           16197 non-null  float64\n",
      " 10  sqft_lot      16197 non-null  float64\n",
      " 11  zipcode       16197 non-null  float64\n",
      " 12  bedrooms      16197 non-null  float64\n",
      " 13  bathrooms     16197 non-null  float64\n",
      " 14  floors        16197 non-null  float64\n",
      " 15  price         16197 non-null  float64\n",
      "dtypes: float64(10), int64(3), object(3)\n",
      "memory usage: 2.1+ MB\n"
     ]
    }
   ],
   "source": [
    "df_scaled.info()"
   ]
  },
  {
   "cell_type": "code",
   "execution_count": 148,
   "metadata": {},
   "outputs": [
    {
     "name": "stdout",
     "output_type": "stream",
     "text": [
      "<class 'pandas.core.frame.DataFrame'>\n",
      "RangeIndex: 21597 entries, 0 to 21596\n",
      "Data columns (total 23 columns):\n",
      " #   Column         Non-Null Count  Dtype  \n",
      "---  ------         --------------  -----  \n",
      " 0   id             21597 non-null  int64  \n",
      " 1   price          21597 non-null  float64\n",
      " 2   bedrooms       21597 non-null  int64  \n",
      " 3   bathrooms      21597 non-null  float64\n",
      " 4   sqft_living    21597 non-null  int64  \n",
      " 5   sqft_lot       21597 non-null  int64  \n",
      " 6   floors         21597 non-null  float64\n",
      " 7   waterfront     21597 non-null  int64  \n",
      " 8   view           21597 non-null  object \n",
      " 9   condition      21597 non-null  object \n",
      " 10  grade          21597 non-null  object \n",
      " 11  sqft_above     21597 non-null  int64  \n",
      " 12  sqft_basement  21597 non-null  float64\n",
      " 13  yr_built       21597 non-null  int64  \n",
      " 14  yr_renovated   21597 non-null  float64\n",
      " 15  zipcode        21597 non-null  int64  \n",
      " 16  lat            21597 non-null  float64\n",
      " 17  long           21597 non-null  float64\n",
      " 18  sqft_living15  21597 non-null  int64  \n",
      " 19  sqft_lot15     21597 non-null  int64  \n",
      " 20  day_sold       21597 non-null  int64  \n",
      " 21  month_sold     21597 non-null  int64  \n",
      " 22  year_sold      21597 non-null  int64  \n",
      "dtypes: float64(7), int64(13), object(3)\n",
      "memory usage: 3.8+ MB\n"
     ]
    }
   ],
   "source": [
    "df.info()"
   ]
  },
  {
   "cell_type": "code",
   "execution_count": null,
   "metadata": {},
   "outputs": [],
   "source": []
  },
  {
   "cell_type": "code",
   "execution_count": null,
   "metadata": {},
   "outputs": [],
   "source": []
  },
  {
   "cell_type": "code",
   "execution_count": null,
   "metadata": {},
   "outputs": [],
   "source": []
  },
  {
   "cell_type": "code",
   "execution_count": null,
   "metadata": {},
   "outputs": [],
   "source": []
  },
  {
   "cell_type": "code",
   "execution_count": null,
   "metadata": {},
   "outputs": [],
   "source": []
  },
  {
   "cell_type": "code",
   "execution_count": null,
   "metadata": {},
   "outputs": [],
   "source": []
  },
  {
   "cell_type": "code",
   "execution_count": null,
   "metadata": {},
   "outputs": [],
   "source": []
  },
  {
   "cell_type": "code",
   "execution_count": null,
   "metadata": {},
   "outputs": [],
   "source": []
  },
  {
   "cell_type": "code",
   "execution_count": null,
   "metadata": {},
   "outputs": [],
   "source": []
  },
  {
   "cell_type": "code",
   "execution_count": null,
   "metadata": {},
   "outputs": [],
   "source": []
  },
  {
   "cell_type": "code",
   "execution_count": null,
   "metadata": {},
   "outputs": [],
   "source": []
  },
  {
   "cell_type": "code",
   "execution_count": null,
   "metadata": {},
   "outputs": [],
   "source": []
  },
  {
   "cell_type": "code",
   "execution_count": null,
   "metadata": {},
   "outputs": [],
   "source": []
  },
  {
   "cell_type": "code",
   "execution_count": null,
   "metadata": {},
   "outputs": [],
   "source": []
  },
  {
   "cell_type": "code",
   "execution_count": null,
   "metadata": {},
   "outputs": [],
   "source": []
  },
  {
   "cell_type": "code",
   "execution_count": null,
   "metadata": {},
   "outputs": [],
   "source": []
  },
  {
   "cell_type": "code",
   "execution_count": null,
   "metadata": {},
   "outputs": [],
   "source": []
  },
  {
   "cell_type": "markdown",
   "metadata": {},
   "source": [
    "# THIS IS CRAP CODE"
   ]
  },
  {
   "cell_type": "code",
   "execution_count": 26,
   "metadata": {},
   "outputs": [],
   "source": [
    "## Attempting to find the best features for selection using RFE in SKLearn\n",
    "\n",
    "#Creating an instance\n",
    "model = LinearRegression()\n",
    "\n",
    "selector = RFE(model, n_features_to_select=3)\n",
    "selector.fit(x_train, y_train)\n",
    "selector.ranking_\n",
    "\n",
    "selector = selector.fit(x_train, y_train)"
   ]
  },
  {
   "cell_type": "code",
   "execution_count": 27,
   "metadata": {},
   "outputs": [
    {
     "data": {
      "text/plain": [
       "array([False,  True,  True,  True,  True,  True,  True,  True,  True,\n",
       "        True,  True,  True,  True,  True,  True,  True,  True,  True,\n",
       "        True,  True,  True,  True,  True,  True,  True,  True,  True,\n",
       "        True,  True,  True,  True,  True,  True,  True,  True,  True,\n",
       "        True,  True,  True,  True])"
      ]
     },
     "execution_count": 27,
     "metadata": {},
     "output_type": "execute_result"
    }
   ],
   "source": [
    "selector_RFECV = RFECV(model, step=1, cv=5)\n",
    "selector_RFECV.fit(x_train, y_train)\n",
    "selector_RFECV.support_"
   ]
  },
  {
   "cell_type": "code",
   "execution_count": 28,
   "metadata": {},
   "outputs": [],
   "source": [
    "df_wo_id = df.drop(columns='id')"
   ]
  },
  {
   "cell_type": "code",
   "execution_count": null,
   "metadata": {},
   "outputs": [],
   "source": []
  },
  {
   "cell_type": "code",
   "execution_count": 29,
   "metadata": {},
   "outputs": [],
   "source": [
    "x_new_2= df_wo_id.drop(['price'],axis=1)\n",
    "y_new_2= df_wo_id['price']\n",
    "\n",
    "x_train_2, x_test_2, y_train_2, y_test_2 = train_test_split(x_new_2, y_new_2, random_state=100)"
   ]
  },
  {
   "cell_type": "code",
   "execution_count": 30,
   "metadata": {},
   "outputs": [
    {
     "data": {
      "text/plain": [
       "0.7311326508962956"
      ]
     },
     "execution_count": 30,
     "metadata": {},
     "output_type": "execute_result"
    }
   ],
   "source": [
    "linreg = LinearRegression()\n",
    "linreg.fit(x_train_2, y_train_2)\n",
    "linreg.score(x_test_2, y_test_2)"
   ]
  },
  {
   "cell_type": "code",
   "execution_count": 31,
   "metadata": {},
   "outputs": [
    {
     "name": "stdout",
     "output_type": "stream",
     "text": [
      "40966461501.9555\n",
      "202401.73295195744\n"
     ]
    }
   ],
   "source": [
    "error = linreg.predict(x_test_2)-y_test_2\n",
    "sq_of_err=(error)**2\n",
    "mean_sqr_of_errors=sq_of_err.mean()\n",
    "print(mean_sqr_of_errors)\n",
    "sqr_mean_sqr_errors= np.sqrt(mean_sqr_of_errors)\n",
    "print(sqr_mean_sqr_errors)\n",
    "\n",
    "## RMSE IS 202,401 WHICH IS DOWN FROM 293K WHERE WE STARTED."
   ]
  },
  {
   "cell_type": "code",
   "execution_count": 32,
   "metadata": {},
   "outputs": [
    {
     "data": {
      "image/png": "[encoded data removed]",
      "text/plain": [
       "<Figure size 432x288 with 1 Axes>"
      ]
     },
     "metadata": {
      "needs_background": "light"
     },
     "output_type": "display_data"
    }
   ],
   "source": [
    "ypred2 = linreg.predict(x_test_2)\n",
    "plt.scatter(ypred2,y_test_2)\n",
    "plt.scatter(y_test_2,y_test_2);"
   ]
  },
  {
   "cell_type": "code",
   "execution_count": 33,
   "metadata": {},
   "outputs": [
    {
     "name": "stdout",
     "output_type": "stream",
     "text": [
      "<class 'pandas.core.frame.DataFrame'>\n",
      "RangeIndex: 21597 entries, 0 to 21596\n",
      "Data columns (total 37 columns):\n",
      " #   Column          Non-Null Count  Dtype  \n",
      "---  ------          --------------  -----  \n",
      " 0   price           21597 non-null  float64\n",
      " 1   bedrooms        21597 non-null  int64  \n",
      " 2   bathrooms       21597 non-null  float64\n",
      " 3   sqft_lot        21597 non-null  int64  \n",
      " 4   floors          21597 non-null  float64\n",
      " 5   waterfront      21597 non-null  int64  \n",
      " 6   sqft_above      21597 non-null  int64  \n",
      " 7   sqft_basement   21597 non-null  float64\n",
      " 8   yr_built        21597 non-null  int64  \n",
      " 9   yr_renovated    21597 non-null  float64\n",
      " 10  zipcode         21597 non-null  int64  \n",
      " 11  lat             21597 non-null  float64\n",
      " 12  long            21597 non-null  float64\n",
      " 13  sqft_living15   21597 non-null  int64  \n",
      " 14  sqft_lot15      21597 non-null  int64  \n",
      " 15  day_sold        21597 non-null  int64  \n",
      " 16  year_sold       21597 non-null  int64  \n",
      " 17  View_Average    21597 non-null  float64\n",
      " 18  View_Excellent  21597 non-null  float64\n",
      " 19  View_Fair       21597 non-null  float64\n",
      " 20  View_Good       21597 non-null  float64\n",
      " 21  View_None       21597 non-null  float64\n",
      " 22  Cond_Average    21597 non-null  float64\n",
      " 23  Cond_Good       21597 non-null  float64\n",
      " 24  Cond_Poor       21597 non-null  float64\n",
      " 25  Cond_VeryGood   21597 non-null  float64\n",
      " 26  VeryGoodGrade   21597 non-null  float64\n",
      " 27  ExcellentGrade  21597 non-null  float64\n",
      " 28  LuxaryGrade     21597 non-null  float64\n",
      " 29  MansionGrade    21597 non-null  float64\n",
      " 30  PoorGrade       21597 non-null  float64\n",
      " 31  LowGrade        21597 non-null  float64\n",
      " 32  FairGrade       21597 non-null  float64\n",
      " 33  LowAvgGrade     21597 non-null  float64\n",
      " 34  AvgGrade        21597 non-null  float64\n",
      " 35  GoodGrade       21597 non-null  float64\n",
      " 36  BetterGrade     21597 non-null  float64\n",
      "dtypes: float64(27), int64(10)\n",
      "memory usage: 6.1 MB\n"
     ]
    }
   ],
   "source": [
    "df_coll_linn = df_wo_id.drop(['Cond_Fair', 'sqft_living', 'month_sold'], axis=1)\n",
    "df_coll_linn.info()"
   ]
  },
  {
   "cell_type": "code",
   "execution_count": 34,
   "metadata": {},
   "outputs": [],
   "source": [
    "x_new_3= df_coll_linn.drop(['price'],axis=1)\n",
    "y_new_3= df_coll_linn['price']\n",
    "\n",
    "x_train_3, x_test_3, y_train_3, y_test_3 = train_test_split(x_new_3, y_new_3, random_state=100)"
   ]
  },
  {
   "cell_type": "code",
   "execution_count": 35,
   "metadata": {},
   "outputs": [
    {
     "data": {
      "text/plain": [
       "0.7202658524197721"
      ]
     },
     "execution_count": 35,
     "metadata": {},
     "output_type": "execute_result"
    }
   ],
   "source": [
    "linreg.fit(x_train_3, y_train_3)\n",
    "linreg.score(x_test_3, y_test_3)"
   ]
  },
  {
   "cell_type": "code",
   "execution_count": 36,
   "metadata": {},
   "outputs": [
    {
     "data": {
      "text/plain": [
       "0.7197155206366328"
      ]
     },
     "execution_count": 36,
     "metadata": {},
     "output_type": "execute_result"
    }
   ],
   "source": [
    "linreg.score(x_train_3, y_train_3)"
   ]
  },
  {
   "cell_type": "code",
   "execution_count": 37,
   "metadata": {},
   "outputs": [
    {
     "name": "stdout",
     "output_type": "stream",
     "text": [
      "42622200969.47375\n",
      "206451.4494244924\n"
     ]
    }
   ],
   "source": [
    "error = linreg.predict(x_test_3)-y_test_3\n",
    "sq_of_err=(error)**2\n",
    "mean_sqr_of_errors=sq_of_err.mean()\n",
    "print(mean_sqr_of_errors)\n",
    "sqr_mean_sqr_errors= np.sqrt(mean_sqr_of_errors)\n",
    "print(sqr_mean_sqr_errors)"
   ]
  },
  {
   "cell_type": "code",
   "execution_count": 38,
   "metadata": {},
   "outputs": [
    {
     "data": {
      "image/png": "[encoded data removed]",
      "text/plain": [
       "<Figure size 432x288 with 1 Axes>"
      ]
     },
     "metadata": {
      "needs_background": "light"
     },
     "output_type": "display_data"
    }
   ],
   "source": [
    "ypred3 = linreg.predict(x_test_3)\n",
    "plt.scatter(ypred3,y_test_3)\n",
    "plt.scatter(y_test_3,y_test_3);"
   ]
  },
  {
   "cell_type": "code",
   "execution_count": null,
   "metadata": {},
   "outputs": [],
   "source": []
  },
  {
   "cell_type": "code",
   "execution_count": null,
   "metadata": {},
   "outputs": [],
   "source": []
  },
  {
   "cell_type": "code",
   "execution_count": null,
   "metadata": {},
   "outputs": [],
   "source": []
  },
  {
   "cell_type": "code",
   "execution_count": 39,
   "metadata": {},
   "outputs": [],
   "source": [
    "df_coll_linn_sqftliv = df_wo_id.drop(['Cond_Good', 'sqft_living15', 'month_sold', 'sqft_above','bathrooms'], axis=1)"
   ]
  },
  {
   "cell_type": "code",
   "execution_count": 40,
   "metadata": {},
   "outputs": [],
   "source": [
    "x_new_4= df_coll_linn_sqftliv.drop(['price'],axis=1)\n",
    "y_new_4= df_coll_linn_sqftliv['price']\n",
    "\n",
    "x_train_4, x_test_4, y_train_4, y_test_4 = train_test_split(x_new_4, y_new_4, random_state=100)"
   ]
  },
  {
   "cell_type": "code",
   "execution_count": 41,
   "metadata": {},
   "outputs": [
    {
     "data": {
      "text/plain": [
       "0.7294472368043496"
      ]
     },
     "execution_count": 41,
     "metadata": {},
     "output_type": "execute_result"
    }
   ],
   "source": [
    "linreg.fit(x_train_4, y_train_4)\n",
    "linreg.score(x_test_4, y_test_4)"
   ]
  },
  {
   "cell_type": "code",
   "execution_count": 42,
   "metadata": {},
   "outputs": [
    {
     "data": {
      "text/plain": [
       "0.7277271450042806"
      ]
     },
     "execution_count": 42,
     "metadata": {},
     "output_type": "execute_result"
    }
   ],
   "source": [
    "linreg.score(x_train_4, y_train_4)"
   ]
  },
  {
   "cell_type": "code",
   "execution_count": 43,
   "metadata": {
    "scrolled": false
   },
   "outputs": [
    {
     "name": "stdout",
     "output_type": "stream",
     "text": [
      "41223262678.23343\n",
      "203035.1267102159\n"
     ]
    }
   ],
   "source": [
    "error = linreg.predict(x_test_4)-y_test_4\n",
    "sq_of_err=(error)**2\n",
    "mean_sqr_of_errors=sq_of_err.mean()\n",
    "print(mean_sqr_of_errors)\n",
    "sqr_mean_sqr_errors= np.sqrt(mean_sqr_of_errors)\n",
    "print(sqr_mean_sqr_errors)"
   ]
  },
  {
   "cell_type": "code",
   "execution_count": 44,
   "metadata": {},
   "outputs": [
    {
     "data": {
      "text/plain": [
       "0.7724653719222305"
      ]
     },
     "execution_count": 44,
     "metadata": {},
     "output_type": "execute_result"
    }
   ],
   "source": [
    "#linear analysis: #bathrooms, livingroom sqrt, \n",
    "    \n",
    "linreg.fit(x_train_4, np.log(y_train_4))\n",
    "linreg.score(x_test_4, np.log(y_test_4))\n"
   ]
  },
  {
   "cell_type": "code",
   "execution_count": 45,
   "metadata": {},
   "outputs": [
    {
     "data": {
      "text/plain": [
       "0.7666156457406923"
      ]
     },
     "execution_count": 45,
     "metadata": {},
     "output_type": "execute_result"
    }
   ],
   "source": [
    "linreg.score(x_train_4, (np.log(y_train_4)))"
   ]
  },
  {
   "cell_type": "code",
   "execution_count": 46,
   "metadata": {},
   "outputs": [
    {
     "data": {
      "image/png": "[encoded data removed]",
      "text/plain": [
       "<Figure size 432x288 with 1 Axes>"
      ]
     },
     "metadata": {
      "needs_background": "light"
     },
     "output_type": "display_data"
    }
   ],
   "source": [
    "ypred4 = linreg.predict(x_test_4)\n",
    "plt.scatter(ypred4,np.log(y_test_4))\n",
    "plt.scatter(np.log(y_test_4),np.log(y_test_4));"
   ]
  },
  {
   "cell_type": "code",
   "execution_count": 47,
   "metadata": {},
   "outputs": [
    {
     "data": {
      "text/plain": [
       "0.4874029817757076"
      ]
     },
     "execution_count": 47,
     "metadata": {},
     "output_type": "execute_result"
    }
   ],
   "source": [
    "# This was a test using the only two features that were linearly regressed.\n",
    "# We took these features from Mendy's Pairplot.\n",
    "\n",
    "x_new_5= df[['sqft_living', 'bathrooms' ]]\n",
    "y_new_5= df_coll_linn['price']\n",
    "\n",
    "x_train_5, x_test_5, y_train_5, y_test_5 = train_test_split(x_new_5, y_new_5, random_state=100)\n",
    "\n",
    "linreg.fit(x_train_5, y_train_5)\n",
    "linreg.score(x_test_5, y_test_5)\n",
    "\n",
    "# As we can see, this is a crap score.\n",
    "# Let's check RMSE.\n"
   ]
  },
  {
   "cell_type": "code",
   "execution_count": 48,
   "metadata": {},
   "outputs": [
    {
     "data": {
      "text/plain": [
       "0.48062396632763815"
      ]
     },
     "execution_count": 48,
     "metadata": {},
     "output_type": "execute_result"
    }
   ],
   "source": [
    "linreg.fit(x_train_5, np.log(y_train_5))\n",
    "linreg.score(x_test_5, np.log(y_test_5))\n",
    "\n",
    "#LOG(Y) doesn't seem to change the R^2 value here."
   ]
  },
  {
   "cell_type": "code",
   "execution_count": 49,
   "metadata": {},
   "outputs": [
    {
     "name": "stdout",
     "output_type": "stream",
     "text": [
      "439545152328.8761\n",
      "662982.0150870429\n"
     ]
    }
   ],
   "source": [
    "error = linreg.predict(x_test_5)-y_test_5\n",
    "sq_of_err=(error)**2\n",
    "mean_sqr_of_errors=sq_of_err.mean()\n",
    "print(mean_sqr_of_errors)\n",
    "sqr_mean_sqr_errors= np.sqrt(mean_sqr_of_errors)\n",
    "print(sqr_mean_sqr_errors)\n",
    "\n",
    "# Worse RMSE than some of our other models. "
   ]
  },
  {
   "cell_type": "code",
   "execution_count": 50,
   "metadata": {},
   "outputs": [
    {
     "data": {
      "text/plain": [
       "0.32375545559503777"
      ]
     },
     "execution_count": 50,
     "metadata": {},
     "output_type": "execute_result"
    }
   ],
   "source": [
    "(df['sqft_living'] / df['sqft_lot']).mean()"
   ]
  },
  {
   "cell_type": "code",
   "execution_count": 51,
   "metadata": {
    "scrolled": true
   },
   "outputs": [
    {
     "data": {
      "text/plain": [
       "3916.5341004171414"
      ]
     },
     "execution_count": 51,
     "metadata": {},
     "output_type": "execute_result"
    }
   ],
   "source": [
    "sqft_living_upper = df['sqft_living'].mean() + (2*df['sqft_living'].std())\n",
    "sqft_median = df['sqft_living'].median()\n",
    "sqft_living_upper"
   ]
  },
  {
   "cell_type": "code",
   "execution_count": 52,
   "metadata": {},
   "outputs": [
    {
     "data": {
      "text/plain": [
       "13540"
      ]
     },
     "execution_count": 52,
     "metadata": {},
     "output_type": "execute_result"
    }
   ],
   "source": [
    "df['sqft_living'].max()"
   ]
  },
  {
   "cell_type": "code",
   "execution_count": 53,
   "metadata": {},
   "outputs": [
    {
     "data": {
      "text/html": [
       "<div>\n",
       "<style scoped>\n",
       "    .dataframe tbody tr th:only-of-type {\n",
       "        vertical-align: middle;\n",
       "    }\n",
       "\n",
       "    .dataframe tbody tr th {\n",
       "        vertical-align: top;\n",
       "    }\n",
       "\n",
       "    .dataframe thead th {\n",
       "        text-align: right;\n",
       "    }\n",
       "</style>\n",
       "<table border=\"1\" class=\"dataframe\">\n",
       "  <thead>\n",
       "    <tr style=\"text-align: right;\">\n",
       "      <th></th>\n",
       "      <th>price</th>\n",
       "      <th>bedrooms</th>\n",
       "      <th>sqft_living</th>\n",
       "      <th>sqft_lot</th>\n",
       "      <th>floors</th>\n",
       "      <th>waterfront</th>\n",
       "      <th>sqft_basement</th>\n",
       "      <th>yr_built</th>\n",
       "      <th>yr_renovated</th>\n",
       "      <th>zipcode</th>\n",
       "      <th>...</th>\n",
       "      <th>ExcellentGrade</th>\n",
       "      <th>LuxaryGrade</th>\n",
       "      <th>MansionGrade</th>\n",
       "      <th>PoorGrade</th>\n",
       "      <th>LowGrade</th>\n",
       "      <th>FairGrade</th>\n",
       "      <th>LowAvgGrade</th>\n",
       "      <th>AvgGrade</th>\n",
       "      <th>GoodGrade</th>\n",
       "      <th>BetterGrade</th>\n",
       "    </tr>\n",
       "  </thead>\n",
       "  <tbody>\n",
       "    <tr>\n",
       "      <th>0</th>\n",
       "      <td>221900.0</td>\n",
       "      <td>3</td>\n",
       "      <td>1180</td>\n",
       "      <td>5650</td>\n",
       "      <td>1.0</td>\n",
       "      <td>0</td>\n",
       "      <td>0.0</td>\n",
       "      <td>1955</td>\n",
       "      <td>0.0</td>\n",
       "      <td>98178</td>\n",
       "      <td>...</td>\n",
       "      <td>0.0</td>\n",
       "      <td>0.0</td>\n",
       "      <td>0.0</td>\n",
       "      <td>0.0</td>\n",
       "      <td>0.0</td>\n",
       "      <td>0.0</td>\n",
       "      <td>0.0</td>\n",
       "      <td>1.0</td>\n",
       "      <td>0.0</td>\n",
       "      <td>0.0</td>\n",
       "    </tr>\n",
       "    <tr>\n",
       "      <th>2</th>\n",
       "      <td>180000.0</td>\n",
       "      <td>2</td>\n",
       "      <td>770</td>\n",
       "      <td>10000</td>\n",
       "      <td>1.0</td>\n",
       "      <td>0</td>\n",
       "      <td>400.0</td>\n",
       "      <td>1933</td>\n",
       "      <td>0.0</td>\n",
       "      <td>98028</td>\n",
       "      <td>...</td>\n",
       "      <td>0.0</td>\n",
       "      <td>0.0</td>\n",
       "      <td>0.0</td>\n",
       "      <td>0.0</td>\n",
       "      <td>0.0</td>\n",
       "      <td>0.0</td>\n",
       "      <td>1.0</td>\n",
       "      <td>0.0</td>\n",
       "      <td>0.0</td>\n",
       "      <td>0.0</td>\n",
       "    </tr>\n",
       "    <tr>\n",
       "      <th>3</th>\n",
       "      <td>604000.0</td>\n",
       "      <td>4</td>\n",
       "      <td>1960</td>\n",
       "      <td>5000</td>\n",
       "      <td>1.0</td>\n",
       "      <td>0</td>\n",
       "      <td>910.0</td>\n",
       "      <td>1965</td>\n",
       "      <td>0.0</td>\n",
       "      <td>98136</td>\n",
       "      <td>...</td>\n",
       "      <td>0.0</td>\n",
       "      <td>0.0</td>\n",
       "      <td>0.0</td>\n",
       "      <td>0.0</td>\n",
       "      <td>0.0</td>\n",
       "      <td>0.0</td>\n",
       "      <td>0.0</td>\n",
       "      <td>1.0</td>\n",
       "      <td>0.0</td>\n",
       "      <td>0.0</td>\n",
       "    </tr>\n",
       "    <tr>\n",
       "      <th>4</th>\n",
       "      <td>510000.0</td>\n",
       "      <td>3</td>\n",
       "      <td>1680</td>\n",
       "      <td>8080</td>\n",
       "      <td>1.0</td>\n",
       "      <td>0</td>\n",
       "      <td>910.0</td>\n",
       "      <td>1987</td>\n",
       "      <td>0.0</td>\n",
       "      <td>98074</td>\n",
       "      <td>...</td>\n",
       "      <td>0.0</td>\n",
       "      <td>0.0</td>\n",
       "      <td>0.0</td>\n",
       "      <td>0.0</td>\n",
       "      <td>0.0</td>\n",
       "      <td>0.0</td>\n",
       "      <td>0.0</td>\n",
       "      <td>0.0</td>\n",
       "      <td>1.0</td>\n",
       "      <td>0.0</td>\n",
       "    </tr>\n",
       "    <tr>\n",
       "      <th>6</th>\n",
       "      <td>257500.0</td>\n",
       "      <td>3</td>\n",
       "      <td>1715</td>\n",
       "      <td>6819</td>\n",
       "      <td>2.0</td>\n",
       "      <td>0</td>\n",
       "      <td>1530.0</td>\n",
       "      <td>1995</td>\n",
       "      <td>0.0</td>\n",
       "      <td>98003</td>\n",
       "      <td>...</td>\n",
       "      <td>0.0</td>\n",
       "      <td>0.0</td>\n",
       "      <td>0.0</td>\n",
       "      <td>0.0</td>\n",
       "      <td>0.0</td>\n",
       "      <td>0.0</td>\n",
       "      <td>0.0</td>\n",
       "      <td>1.0</td>\n",
       "      <td>0.0</td>\n",
       "      <td>0.0</td>\n",
       "    </tr>\n",
       "    <tr>\n",
       "      <th>...</th>\n",
       "      <td>...</td>\n",
       "      <td>...</td>\n",
       "      <td>...</td>\n",
       "      <td>...</td>\n",
       "      <td>...</td>\n",
       "      <td>...</td>\n",
       "      <td>...</td>\n",
       "      <td>...</td>\n",
       "      <td>...</td>\n",
       "      <td>...</td>\n",
       "      <td>...</td>\n",
       "      <td>...</td>\n",
       "      <td>...</td>\n",
       "      <td>...</td>\n",
       "      <td>...</td>\n",
       "      <td>...</td>\n",
       "      <td>...</td>\n",
       "      <td>...</td>\n",
       "      <td>...</td>\n",
       "      <td>...</td>\n",
       "      <td>...</td>\n",
       "    </tr>\n",
       "    <tr>\n",
       "      <th>21592</th>\n",
       "      <td>360000.0</td>\n",
       "      <td>3</td>\n",
       "      <td>1530</td>\n",
       "      <td>1131</td>\n",
       "      <td>3.0</td>\n",
       "      <td>0</td>\n",
       "      <td>130.0</td>\n",
       "      <td>2009</td>\n",
       "      <td>0.0</td>\n",
       "      <td>98103</td>\n",
       "      <td>...</td>\n",
       "      <td>0.0</td>\n",
       "      <td>0.0</td>\n",
       "      <td>0.0</td>\n",
       "      <td>0.0</td>\n",
       "      <td>0.0</td>\n",
       "      <td>0.0</td>\n",
       "      <td>0.0</td>\n",
       "      <td>0.0</td>\n",
       "      <td>1.0</td>\n",
       "      <td>0.0</td>\n",
       "    </tr>\n",
       "    <tr>\n",
       "      <th>21593</th>\n",
       "      <td>400000.0</td>\n",
       "      <td>4</td>\n",
       "      <td>2310</td>\n",
       "      <td>5813</td>\n",
       "      <td>2.0</td>\n",
       "      <td>0</td>\n",
       "      <td>130.0</td>\n",
       "      <td>2014</td>\n",
       "      <td>0.0</td>\n",
       "      <td>98146</td>\n",
       "      <td>...</td>\n",
       "      <td>0.0</td>\n",
       "      <td>0.0</td>\n",
       "      <td>0.0</td>\n",
       "      <td>0.0</td>\n",
       "      <td>0.0</td>\n",
       "      <td>0.0</td>\n",
       "      <td>0.0</td>\n",
       "      <td>0.0</td>\n",
       "      <td>1.0</td>\n",
       "      <td>0.0</td>\n",
       "    </tr>\n",
       "    <tr>\n",
       "      <th>21594</th>\n",
       "      <td>402101.0</td>\n",
       "      <td>2</td>\n",
       "      <td>1020</td>\n",
       "      <td>1350</td>\n",
       "      <td>2.0</td>\n",
       "      <td>0</td>\n",
       "      <td>130.0</td>\n",
       "      <td>2009</td>\n",
       "      <td>0.0</td>\n",
       "      <td>98144</td>\n",
       "      <td>...</td>\n",
       "      <td>0.0</td>\n",
       "      <td>0.0</td>\n",
       "      <td>0.0</td>\n",
       "      <td>0.0</td>\n",
       "      <td>0.0</td>\n",
       "      <td>0.0</td>\n",
       "      <td>0.0</td>\n",
       "      <td>1.0</td>\n",
       "      <td>0.0</td>\n",
       "      <td>0.0</td>\n",
       "    </tr>\n",
       "    <tr>\n",
       "      <th>21595</th>\n",
       "      <td>400000.0</td>\n",
       "      <td>3</td>\n",
       "      <td>1600</td>\n",
       "      <td>2388</td>\n",
       "      <td>2.0</td>\n",
       "      <td>0</td>\n",
       "      <td>130.0</td>\n",
       "      <td>2004</td>\n",
       "      <td>0.0</td>\n",
       "      <td>98027</td>\n",
       "      <td>...</td>\n",
       "      <td>0.0</td>\n",
       "      <td>0.0</td>\n",
       "      <td>0.0</td>\n",
       "      <td>0.0</td>\n",
       "      <td>0.0</td>\n",
       "      <td>0.0</td>\n",
       "      <td>0.0</td>\n",
       "      <td>0.0</td>\n",
       "      <td>1.0</td>\n",
       "      <td>0.0</td>\n",
       "    </tr>\n",
       "    <tr>\n",
       "      <th>21596</th>\n",
       "      <td>325000.0</td>\n",
       "      <td>2</td>\n",
       "      <td>1020</td>\n",
       "      <td>1076</td>\n",
       "      <td>2.0</td>\n",
       "      <td>0</td>\n",
       "      <td>130.0</td>\n",
       "      <td>2008</td>\n",
       "      <td>0.0</td>\n",
       "      <td>98144</td>\n",
       "      <td>...</td>\n",
       "      <td>0.0</td>\n",
       "      <td>0.0</td>\n",
       "      <td>0.0</td>\n",
       "      <td>0.0</td>\n",
       "      <td>0.0</td>\n",
       "      <td>0.0</td>\n",
       "      <td>0.0</td>\n",
       "      <td>1.0</td>\n",
       "      <td>0.0</td>\n",
       "      <td>0.0</td>\n",
       "    </tr>\n",
       "  </tbody>\n",
       "</table>\n",
       "<p>16166 rows × 35 columns</p>\n",
       "</div>"
      ],
      "text/plain": [
       "          price  bedrooms  sqft_living  sqft_lot  floors  waterfront  \\\n",
       "0      221900.0         3         1180      5650     1.0           0   \n",
       "2      180000.0         2          770     10000     1.0           0   \n",
       "3      604000.0         4         1960      5000     1.0           0   \n",
       "4      510000.0         3         1680      8080     1.0           0   \n",
       "6      257500.0         3         1715      6819     2.0           0   \n",
       "...         ...       ...          ...       ...     ...         ...   \n",
       "21592  360000.0         3         1530      1131     3.0           0   \n",
       "21593  400000.0         4         2310      5813     2.0           0   \n",
       "21594  402101.0         2         1020      1350     2.0           0   \n",
       "21595  400000.0         3         1600      2388     2.0           0   \n",
       "21596  325000.0         2         1020      1076     2.0           0   \n",
       "\n",
       "       sqft_basement  yr_built  yr_renovated  zipcode  ...  ExcellentGrade  \\\n",
       "0                0.0      1955           0.0    98178  ...             0.0   \n",
       "2              400.0      1933           0.0    98028  ...             0.0   \n",
       "3              910.0      1965           0.0    98136  ...             0.0   \n",
       "4              910.0      1987           0.0    98074  ...             0.0   \n",
       "6             1530.0      1995           0.0    98003  ...             0.0   \n",
       "...              ...       ...           ...      ...  ...             ...   \n",
       "21592          130.0      2009           0.0    98103  ...             0.0   \n",
       "21593          130.0      2014           0.0    98146  ...             0.0   \n",
       "21594          130.0      2009           0.0    98144  ...             0.0   \n",
       "21595          130.0      2004           0.0    98027  ...             0.0   \n",
       "21596          130.0      2008           0.0    98144  ...             0.0   \n",
       "\n",
       "       LuxaryGrade  MansionGrade  PoorGrade  LowGrade  FairGrade  LowAvgGrade  \\\n",
       "0              0.0           0.0        0.0       0.0        0.0          0.0   \n",
       "2              0.0           0.0        0.0       0.0        0.0          1.0   \n",
       "3              0.0           0.0        0.0       0.0        0.0          0.0   \n",
       "4              0.0           0.0        0.0       0.0        0.0          0.0   \n",
       "6              0.0           0.0        0.0       0.0        0.0          0.0   \n",
       "...            ...           ...        ...       ...        ...          ...   \n",
       "21592          0.0           0.0        0.0       0.0        0.0          0.0   \n",
       "21593          0.0           0.0        0.0       0.0        0.0          0.0   \n",
       "21594          0.0           0.0        0.0       0.0        0.0          0.0   \n",
       "21595          0.0           0.0        0.0       0.0        0.0          0.0   \n",
       "21596          0.0           0.0        0.0       0.0        0.0          0.0   \n",
       "\n",
       "       AvgGrade  GoodGrade  BetterGrade  \n",
       "0           1.0        0.0          0.0  \n",
       "2           0.0        0.0          0.0  \n",
       "3           1.0        0.0          0.0  \n",
       "4           0.0        1.0          0.0  \n",
       "6           1.0        0.0          0.0  \n",
       "...         ...        ...          ...  \n",
       "21592       0.0        1.0          0.0  \n",
       "21593       0.0        1.0          0.0  \n",
       "21594       1.0        0.0          0.0  \n",
       "21595       0.0        1.0          0.0  \n",
       "21596       1.0        0.0          0.0  \n",
       "\n",
       "[16166 rows x 35 columns]"
      ]
     },
     "execution_count": 53,
     "metadata": {},
     "output_type": "execute_result"
    }
   ],
   "source": [
    "df_mean_sqft = df_coll_linn_sqftliv[df_coll_linn_sqftliv['sqft_living'] < 2550]\n",
    "df_mean_sqft\n"
   ]
  },
  {
   "cell_type": "code",
   "execution_count": 54,
   "metadata": {},
   "outputs": [
    {
     "data": {
      "text/plain": [
       "0.6275928543495218"
      ]
     },
     "execution_count": 54,
     "metadata": {},
     "output_type": "execute_result"
    }
   ],
   "source": [
    "x_new_6= df_mean_sqft.drop(['price'],axis=1)\n",
    "y_new_6= df_mean_sqft['price']\n",
    "\n",
    "x_train_6, x_test_6, y_train_6, y_test_6 = train_test_split(x_new_6, y_new_6, random_state=100)\n",
    "\n",
    "linreg.fit(x_train_6, (y_train_6))\n",
    "linreg.score(x_test_6, (y_test_6))"
   ]
  },
  {
   "cell_type": "code",
   "execution_count": 55,
   "metadata": {},
   "outputs": [
    {
     "data": {
      "text/plain": [
       "0.6003327522044333"
      ]
     },
     "execution_count": 55,
     "metadata": {},
     "output_type": "execute_result"
    }
   ],
   "source": [
    "linreg.score(x_train_6,(y_train_6))"
   ]
  },
  {
   "cell_type": "code",
   "execution_count": 56,
   "metadata": {},
   "outputs": [
    {
     "name": "stdout",
     "output_type": "stream",
     "text": [
      "12748467068.868067\n",
      "112909.10976917703\n"
     ]
    }
   ],
   "source": [
    "error = linreg.predict(x_test_6)-y_test_6\n",
    "sq_of_err=(error)**2\n",
    "mean_sqr_of_errors=sq_of_err.mean()\n",
    "print(mean_sqr_of_errors)\n",
    "sqr_mean_sqr_errors= np.sqrt(mean_sqr_of_errors)\n",
    "print(sqr_mean_sqr_errors)\n",
    "\n"
   ]
  },
  {
   "cell_type": "code",
   "execution_count": null,
   "metadata": {},
   "outputs": [],
   "source": []
  },
  {
   "cell_type": "code",
   "execution_count": null,
   "metadata": {},
   "outputs": [],
   "source": []
  },
  {
   "cell_type": "code",
   "execution_count": 57,
   "metadata": {},
   "outputs": [
    {
     "data": {
      "text/plain": [
       "0.6275928543495218"
      ]
     },
     "execution_count": 57,
     "metadata": {},
     "output_type": "execute_result"
    }
   ],
   "source": [
    "x_new_6= df_mean_sqft.drop(['price'],axis=1)\n",
    "y_new_6= df_mean_sqft['price']\n",
    "\n",
    "x_train_6, x_test_6, y_train_6, y_test_6 = train_test_split(x_new_6, y_new_6, random_state=100)\n",
    "\n",
    "linreg.fit(x_train_6, (y_train_6))\n",
    "linreg.score(x_test_6, (y_test_6))"
   ]
  },
  {
   "cell_type": "code",
   "execution_count": null,
   "metadata": {},
   "outputs": [],
   "source": []
  },
  {
   "cell_type": "markdown",
   "metadata": {},
   "source": [
    "### CREATING A SPLIT SO THAT I CAN CREATE A SIMPLE MODEL."
   ]
  },
  {
   "cell_type": "markdown",
   "metadata": {},
   "source": [
    " "
   ]
  },
  {
   "cell_type": "markdown",
   "metadata": {},
   "source": [
    "Will use the highest correlated methods with price to create a simple model. This looks like price vs. sqft_living."
   ]
  },
  {
   "cell_type": "code",
   "execution_count": 58,
   "metadata": {
    "scrolled": true
   },
   "outputs": [
    {
     "data": {
      "text/html": [
       "<table class=\"simpletable\">\n",
       "<caption>OLS Regression Results</caption>\n",
       "<tr>\n",
       "  <th>Dep. Variable:</th>          <td>price</td>      <th>  R-squared:         </th>  <td>   0.493</td>  \n",
       "</tr>\n",
       "<tr>\n",
       "  <th>Model:</th>                   <td>OLS</td>       <th>  Adj. R-squared:    </th>  <td>   0.493</td>  \n",
       "</tr>\n",
       "<tr>\n",
       "  <th>Method:</th>             <td>Least Squares</td>  <th>  F-statistic:       </th>  <td>2.097e+04</td> \n",
       "</tr>\n",
       "<tr>\n",
       "  <th>Date:</th>             <td>Wed, 17 Nov 2021</td> <th>  Prob (F-statistic):</th>   <td>  0.00</td>   \n",
       "</tr>\n",
       "<tr>\n",
       "  <th>Time:</th>                 <td>15:56:53</td>     <th>  Log-Likelihood:    </th> <td>-3.0006e+05</td>\n",
       "</tr>\n",
       "<tr>\n",
       "  <th>No. Observations:</th>      <td> 21597</td>      <th>  AIC:               </th>  <td>6.001e+05</td> \n",
       "</tr>\n",
       "<tr>\n",
       "  <th>Df Residuals:</th>          <td> 21595</td>      <th>  BIC:               </th>  <td>6.001e+05</td> \n",
       "</tr>\n",
       "<tr>\n",
       "  <th>Df Model:</th>              <td>     1</td>      <th>                     </th>      <td> </td>     \n",
       "</tr>\n",
       "<tr>\n",
       "  <th>Covariance Type:</th>      <td>nonrobust</td>    <th>                     </th>      <td> </td>     \n",
       "</tr>\n",
       "</table>\n",
       "<table class=\"simpletable\">\n",
       "<tr>\n",
       "       <td></td>          <th>coef</th>     <th>std err</th>      <th>t</th>      <th>P>|t|</th>  <th>[0.025</th>    <th>0.975]</th>  \n",
       "</tr>\n",
       "<tr>\n",
       "  <th>Intercept</th>   <td>-4.399e+04</td> <td> 4410.023</td> <td>   -9.975</td> <td> 0.000</td> <td>-5.26e+04</td> <td>-3.53e+04</td>\n",
       "</tr>\n",
       "<tr>\n",
       "  <th>sqft_living</th> <td>  280.8630</td> <td>    1.939</td> <td>  144.819</td> <td> 0.000</td> <td>  277.062</td> <td>  284.664</td>\n",
       "</tr>\n",
       "</table>\n",
       "<table class=\"simpletable\">\n",
       "<tr>\n",
       "  <th>Omnibus:</th>       <td>14801.942</td> <th>  Durbin-Watson:     </th>  <td>   1.982</td> \n",
       "</tr>\n",
       "<tr>\n",
       "  <th>Prob(Omnibus):</th>  <td> 0.000</td>   <th>  Jarque-Bera (JB):  </th> <td>542662.604</td>\n",
       "</tr>\n",
       "<tr>\n",
       "  <th>Skew:</th>           <td> 2.820</td>   <th>  Prob(JB):          </th>  <td>    0.00</td> \n",
       "</tr>\n",
       "<tr>\n",
       "  <th>Kurtosis:</th>       <td>26.901</td>   <th>  Cond. No.          </th>  <td>5.63e+03</td> \n",
       "</tr>\n",
       "</table><br/><br/>Notes:<br/>[1] Standard Errors assume that the covariance matrix of the errors is correctly specified.<br/>[2] The condition number is large, 5.63e+03. This might indicate that there are<br/>strong multicollinearity or other numerical problems."
      ],
      "text/plain": [
       "<class 'statsmodels.iolib.summary.Summary'>\n",
       "\"\"\"\n",
       "                            OLS Regression Results                            \n",
       "==============================================================================\n",
       "Dep. Variable:                  price   R-squared:                       0.493\n",
       "Model:                            OLS   Adj. R-squared:                  0.493\n",
       "Method:                 Least Squares   F-statistic:                 2.097e+04\n",
       "Date:                Wed, 17 Nov 2021   Prob (F-statistic):               0.00\n",
       "Time:                        15:56:53   Log-Likelihood:            -3.0006e+05\n",
       "No. Observations:               21597   AIC:                         6.001e+05\n",
       "Df Residuals:                   21595   BIC:                         6.001e+05\n",
       "Df Model:                           1                                         \n",
       "Covariance Type:            nonrobust                                         \n",
       "===============================================================================\n",
       "                  coef    std err          t      P>|t|      [0.025      0.975]\n",
       "-------------------------------------------------------------------------------\n",
       "Intercept   -4.399e+04   4410.023     -9.975      0.000   -5.26e+04   -3.53e+04\n",
       "sqft_living   280.8630      1.939    144.819      0.000     277.062     284.664\n",
       "==============================================================================\n",
       "Omnibus:                    14801.942   Durbin-Watson:                   1.982\n",
       "Prob(Omnibus):                  0.000   Jarque-Bera (JB):           542662.604\n",
       "Skew:                           2.820   Prob(JB):                         0.00\n",
       "Kurtosis:                      26.901   Cond. No.                     5.63e+03\n",
       "==============================================================================\n",
       "\n",
       "Notes:\n",
       "[1] Standard Errors assume that the covariance matrix of the errors is correctly specified.\n",
       "[2] The condition number is large, 5.63e+03. This might indicate that there are\n",
       "strong multicollinearity or other numerical problems.\n",
       "\"\"\""
      ]
     },
     "execution_count": 58,
     "metadata": {},
     "output_type": "execute_result"
    }
   ],
   "source": [
    "formula = 'price ~ sqft_living'\n",
    "model = ols(formula=formula, data=df).fit()\n",
    "model.summary()"
   ]
  },
  {
   "cell_type": "code",
   "execution_count": 59,
   "metadata": {},
   "outputs": [
    {
     "data": {
      "text/plain": [
       "0.48733518973535617"
      ]
     },
     "execution_count": 59,
     "metadata": {},
     "output_type": "execute_result"
    }
   ],
   "source": [
    "x_new_simple= df[['sqft_living']]\n",
    "y_new_simple= df['price']\n",
    "\n",
    "x_train_simple, x_test_simple, y_train_simple, y_test_simple = train_test_split(x_new_simple, y_new_simple, random_state=100)\n",
    "\n",
    "linreg.fit(x_train_simple, y_train_simple)\n",
    "linreg.score(x_test_simple, y_test_simple)"
   ]
  },
  {
   "cell_type": "code",
   "execution_count": 60,
   "metadata": {},
   "outputs": [
    {
     "data": {
      "text/plain": [
       "0.4945445156766466"
      ]
     },
     "execution_count": 60,
     "metadata": {},
     "output_type": "execute_result"
    }
   ],
   "source": [
    "linreg.score(x_train_simple, y_train_simple)"
   ]
  },
  {
   "cell_type": "code",
   "execution_count": 61,
   "metadata": {
    "scrolled": false
   },
   "outputs": [
    {
     "name": "stdout",
     "output_type": "stream",
     "text": [
      "78113104038.57623\n",
      "279487.2162346182\n"
     ]
    }
   ],
   "source": [
    "error = linreg.predict(x_test_simple)-y_test_simple\n",
    "sq_of_err=(error)**2\n",
    "mean_sqr_of_errors=sq_of_err.mean()\n",
    "print(mean_sqr_of_errors)\n",
    "sqr_mean_sqr_errors= np.sqrt(mean_sqr_of_errors)\n",
    "print(sqr_mean_sqr_errors)"
   ]
  },
  {
   "cell_type": "markdown",
   "metadata": {},
   "source": [
    "### END SPLIT HERE"
   ]
  },
  {
   "cell_type": "markdown",
   "metadata": {},
   "source": [
    "### Creating a histogram of months sold to see if there is any uptick in housing months\n"
   ]
  },
  {
   "cell_type": "code",
   "execution_count": 62,
   "metadata": {},
   "outputs": [
    {
     "name": "stdout",
     "output_type": "stream",
     "text": [
      "<class 'pandas.core.frame.DataFrame'>\n",
      "RangeIndex: 21597 entries, 0 to 21596\n",
      "Data columns (total 41 columns):\n",
      " #   Column          Non-Null Count  Dtype  \n",
      "---  ------          --------------  -----  \n",
      " 0   id              21597 non-null  int64  \n",
      " 1   price           21597 non-null  float64\n",
      " 2   bedrooms        21597 non-null  int64  \n",
      " 3   bathrooms       21597 non-null  float64\n",
      " 4   sqft_living     21597 non-null  int64  \n",
      " 5   sqft_lot        21597 non-null  int64  \n",
      " 6   floors          21597 non-null  float64\n",
      " 7   waterfront      21597 non-null  int64  \n",
      " 8   sqft_above      21597 non-null  int64  \n",
      " 9   sqft_basement   21597 non-null  float64\n",
      " 10  yr_built        21597 non-null  int64  \n",
      " 11  yr_renovated    21597 non-null  float64\n",
      " 12  zipcode         21597 non-null  int64  \n",
      " 13  lat             21597 non-null  float64\n",
      " 14  long            21597 non-null  float64\n",
      " 15  sqft_living15   21597 non-null  int64  \n",
      " 16  sqft_lot15      21597 non-null  int64  \n",
      " 17  day_sold        21597 non-null  int64  \n",
      " 18  month_sold      21597 non-null  int64  \n",
      " 19  year_sold       21597 non-null  int64  \n",
      " 20  View_Average    21597 non-null  float64\n",
      " 21  View_Excellent  21597 non-null  float64\n",
      " 22  View_Fair       21597 non-null  float64\n",
      " 23  View_Good       21597 non-null  float64\n",
      " 24  View_None       21597 non-null  float64\n",
      " 25  Cond_Average    21597 non-null  float64\n",
      " 26  Cond_Fair       21597 non-null  float64\n",
      " 27  Cond_Good       21597 non-null  float64\n",
      " 28  Cond_Poor       21597 non-null  float64\n",
      " 29  Cond_VeryGood   21597 non-null  float64\n",
      " 30  VeryGoodGrade   21597 non-null  float64\n",
      " 31  ExcellentGrade  21597 non-null  float64\n",
      " 32  LuxaryGrade     21597 non-null  float64\n",
      " 33  MansionGrade    21597 non-null  float64\n",
      " 34  PoorGrade       21597 non-null  float64\n",
      " 35  LowGrade        21597 non-null  float64\n",
      " 36  FairGrade       21597 non-null  float64\n",
      " 37  LowAvgGrade     21597 non-null  float64\n",
      " 38  AvgGrade        21597 non-null  float64\n",
      " 39  GoodGrade       21597 non-null  float64\n",
      " 40  BetterGrade     21597 non-null  float64\n",
      "dtypes: float64(28), int64(13)\n",
      "memory usage: 6.8 MB\n"
     ]
    }
   ],
   "source": [
    "df.info()"
   ]
  },
  {
   "cell_type": "code",
   "execution_count": 63,
   "metadata": {},
   "outputs": [
    {
     "data": {
      "text/plain": [
       "(array([2225., 1875., 2229., 2414., 2178., 2211., 1939., 1771., 1876.,\n",
       "        2879.]),\n",
       " array([ 1. ,  2.1,  3.2,  4.3,  5.4,  6.5,  7.6,  8.7,  9.8, 10.9, 12. ]),\n",
       " <BarContainer object of 10 artists>)"
      ]
     },
     "execution_count": 63,
     "metadata": {},
     "output_type": "execute_result"
    },
    {
     "data": {
      "image/png": "[encoded data removed]",
      "text/plain": [
       "<Figure size 432x288 with 1 Axes>"
      ]
     },
     "metadata": {
      "needs_background": "light"
     },
     "output_type": "display_data"
    }
   ],
   "source": [
    "fig, ax = plt.subplots()\n",
    "\n",
    "x = df['month_sold']\n",
    "ax.hist(x)"
   ]
  },
  {
   "cell_type": "markdown",
   "metadata": {},
   "source": [
    "### STANDARD SCALING"
   ]
  },
  {
   "cell_type": "code",
   "execution_count": 64,
   "metadata": {},
   "outputs": [],
   "source": [
    "numeric=['sqft_living','long','lat','sqft_lot','zipcode','bedrooms','bathrooms','floors']\n",
    "categorical=['year_sold','month_sold','day_sold','BetterGrade','GoodGrade','AvgGrade','LowAvgGrade','FairGrade',\n",
    "            'LowGrade','PoorGrade','MansionGrade','LuxaryGrade','ExcellentGrade','VeryGoodGrade','Cond_VeryGood',\n",
    "            'Cond_Poor','Cond_Good','Cond_Fair','Cond_Average','View_None','View_Good','View_Fair','View_Excellent',\n",
    "            'View_Average','yr_renovated','yr_built','waterfront','id']\n",
    "\n",
    "x_train_num= x_train[numeric]\n",
    "x_train_cat= x_train[categorical]"
   ]
  },
  {
   "cell_type": "code",
   "execution_count": 65,
   "metadata": {},
   "outputs": [
    {
     "data": {
      "text/plain": [
       "StandardScaler()"
      ]
     },
     "execution_count": 65,
     "metadata": {},
     "output_type": "execute_result"
    }
   ],
   "source": [
    "ss=StandardScaler()\n",
    "ss.fit(x_train_num)"
   ]
  },
  {
   "cell_type": "code",
   "execution_count": 66,
   "metadata": {},
   "outputs": [],
   "source": [
    "ss=StandardScaler()\n",
    "ss.fit(x_train_num)\n",
    "x_train_num_scaled=ss.transform(x_train_num)"
   ]
  },
  {
   "cell_type": "code",
   "execution_count": 67,
   "metadata": {},
   "outputs": [],
   "source": [
    "ss=StandardScaler()\n",
    "ss.fit(x_train_num)\n",
    "x_train_num_scaled=ss.transform(x_train_num)\n",
    "x_pandas_scaled = pd.DataFrame(x_train_num_scaled, columns=numeric, index=x_train_cat.index)"
   ]
  },
  {
   "cell_type": "code",
   "execution_count": 68,
   "metadata": {},
   "outputs": [
    {
     "data": {
      "text/html": [
       "<div>\n",
       "<style scoped>\n",
       "    .dataframe tbody tr th:only-of-type {\n",
       "        vertical-align: middle;\n",
       "    }\n",
       "\n",
       "    .dataframe tbody tr th {\n",
       "        vertical-align: top;\n",
       "    }\n",
       "\n",
       "    .dataframe thead th {\n",
       "        text-align: right;\n",
       "    }\n",
       "</style>\n",
       "<table border=\"1\" class=\"dataframe\">\n",
       "  <thead>\n",
       "    <tr style=\"text-align: right;\">\n",
       "      <th></th>\n",
       "      <th>sqft_living</th>\n",
       "      <th>long</th>\n",
       "      <th>lat</th>\n",
       "      <th>sqft_lot</th>\n",
       "      <th>zipcode</th>\n",
       "      <th>bedrooms</th>\n",
       "      <th>bathrooms</th>\n",
       "      <th>floors</th>\n",
       "    </tr>\n",
       "  </thead>\n",
       "  <tbody>\n",
       "    <tr>\n",
       "      <th>7152</th>\n",
       "      <td>-0.560951</td>\n",
       "      <td>0.767978</td>\n",
       "      <td>0.863679</td>\n",
       "      <td>-0.180473</td>\n",
       "      <td>-0.486631</td>\n",
       "      <td>0.677781</td>\n",
       "      <td>-0.479368</td>\n",
       "      <td>-0.916579</td>\n",
       "    </tr>\n",
       "    <tr>\n",
       "      <th>8823</th>\n",
       "      <td>0.017718</td>\n",
       "      <td>0.292357</td>\n",
       "      <td>1.180919</td>\n",
       "      <td>-0.062092</td>\n",
       "      <td>-0.823387</td>\n",
       "      <td>0.677781</td>\n",
       "      <td>-0.154732</td>\n",
       "      <td>-0.916579</td>\n",
       "    </tr>\n",
       "    <tr>\n",
       "      <th>11039</th>\n",
       "      <td>-0.822990</td>\n",
       "      <td>-0.403328</td>\n",
       "      <td>-0.873177</td>\n",
       "      <td>-0.062140</td>\n",
       "      <td>2.057749</td>\n",
       "      <td>-0.399975</td>\n",
       "      <td>-0.479368</td>\n",
       "      <td>-0.916579</td>\n",
       "    </tr>\n",
       "    <tr>\n",
       "      <th>17557</th>\n",
       "      <td>-0.331667</td>\n",
       "      <td>-0.360735</td>\n",
       "      <td>-2.097957</td>\n",
       "      <td>1.567163</td>\n",
       "      <td>-1.440774</td>\n",
       "      <td>-1.477730</td>\n",
       "      <td>-1.453276</td>\n",
       "      <td>-0.916579</td>\n",
       "    </tr>\n",
       "    <tr>\n",
       "      <th>16607</th>\n",
       "      <td>-0.113301</td>\n",
       "      <td>2.926019</td>\n",
       "      <td>-0.545072</td>\n",
       "      <td>-0.131049</td>\n",
       "      <td>-0.617592</td>\n",
       "      <td>-0.399975</td>\n",
       "      <td>0.494540</td>\n",
       "      <td>0.935215</td>\n",
       "    </tr>\n",
       "    <tr>\n",
       "      <th>...</th>\n",
       "      <td>...</td>\n",
       "      <td>...</td>\n",
       "      <td>...</td>\n",
       "      <td>...</td>\n",
       "      <td>...</td>\n",
       "      <td>...</td>\n",
       "      <td>...</td>\n",
       "      <td>...</td>\n",
       "    </tr>\n",
       "    <tr>\n",
       "      <th>16304</th>\n",
       "      <td>-0.266157</td>\n",
       "      <td>-0.431723</td>\n",
       "      <td>-1.739432</td>\n",
       "      <td>0.034590</td>\n",
       "      <td>-1.440774</td>\n",
       "      <td>-0.399975</td>\n",
       "      <td>-0.479368</td>\n",
       "      <td>-0.916579</td>\n",
       "    </tr>\n",
       "    <tr>\n",
       "      <th>79</th>\n",
       "      <td>1.491686</td>\n",
       "      <td>1.342982</td>\n",
       "      <td>-1.585157</td>\n",
       "      <td>0.582526</td>\n",
       "      <td>-1.272395</td>\n",
       "      <td>0.677781</td>\n",
       "      <td>0.494540</td>\n",
       "      <td>0.935215</td>\n",
       "    </tr>\n",
       "    <tr>\n",
       "      <th>12119</th>\n",
       "      <td>-0.473605</td>\n",
       "      <td>-0.807960</td>\n",
       "      <td>-1.682937</td>\n",
       "      <td>-0.126023</td>\n",
       "      <td>-1.403356</td>\n",
       "      <td>-0.399975</td>\n",
       "      <td>-0.804004</td>\n",
       "      <td>-0.916579</td>\n",
       "    </tr>\n",
       "    <tr>\n",
       "      <th>14147</th>\n",
       "      <td>-0.200648</td>\n",
       "      <td>-0.992530</td>\n",
       "      <td>-1.707563</td>\n",
       "      <td>0.066055</td>\n",
       "      <td>-1.029183</td>\n",
       "      <td>-0.399975</td>\n",
       "      <td>0.169904</td>\n",
       "      <td>-0.916579</td>\n",
       "    </tr>\n",
       "    <tr>\n",
       "      <th>5640</th>\n",
       "      <td>1.502604</td>\n",
       "      <td>0.072293</td>\n",
       "      <td>-0.295191</td>\n",
       "      <td>-0.234067</td>\n",
       "      <td>-0.411796</td>\n",
       "      <td>1.755537</td>\n",
       "      <td>2.442357</td>\n",
       "      <td>0.935215</td>\n",
       "    </tr>\n",
       "  </tbody>\n",
       "</table>\n",
       "<p>16197 rows × 8 columns</p>\n",
       "</div>"
      ],
      "text/plain": [
       "       sqft_living      long       lat  sqft_lot   zipcode  bedrooms  \\\n",
       "7152     -0.560951  0.767978  0.863679 -0.180473 -0.486631  0.677781   \n",
       "8823      0.017718  0.292357  1.180919 -0.062092 -0.823387  0.677781   \n",
       "11039    -0.822990 -0.403328 -0.873177 -0.062140  2.057749 -0.399975   \n",
       "17557    -0.331667 -0.360735 -2.097957  1.567163 -1.440774 -1.477730   \n",
       "16607    -0.113301  2.926019 -0.545072 -0.131049 -0.617592 -0.399975   \n",
       "...            ...       ...       ...       ...       ...       ...   \n",
       "16304    -0.266157 -0.431723 -1.739432  0.034590 -1.440774 -0.399975   \n",
       "79        1.491686  1.342982 -1.585157  0.582526 -1.272395  0.677781   \n",
       "12119    -0.473605 -0.807960 -1.682937 -0.126023 -1.403356 -0.399975   \n",
       "14147    -0.200648 -0.992530 -1.707563  0.066055 -1.029183 -0.399975   \n",
       "5640      1.502604  0.072293 -0.295191 -0.234067 -0.411796  1.755537   \n",
       "\n",
       "       bathrooms    floors  \n",
       "7152   -0.479368 -0.916579  \n",
       "8823   -0.154732 -0.916579  \n",
       "11039  -0.479368 -0.916579  \n",
       "17557  -1.453276 -0.916579  \n",
       "16607   0.494540  0.935215  \n",
       "...          ...       ...  \n",
       "16304  -0.479368 -0.916579  \n",
       "79      0.494540  0.935215  \n",
       "12119  -0.804004 -0.916579  \n",
       "14147   0.169904 -0.916579  \n",
       "5640    2.442357  0.935215  \n",
       "\n",
       "[16197 rows x 8 columns]"
      ]
     },
     "execution_count": 68,
     "metadata": {},
     "output_type": "execute_result"
    }
   ],
   "source": [
    "x_pandas_scaled"
   ]
  },
  {
   "cell_type": "code",
   "execution_count": 69,
   "metadata": {},
   "outputs": [
    {
     "data": {
      "text/plain": [
       "Int64Index([ 7152,  8823, 11039, 17557, 16607,  9930,  8488, 13660, 20123,\n",
       "             7344,\n",
       "            ...\n",
       "            13890, 20533, 10082, 14260, 16734, 16304,    79, 12119, 14147,\n",
       "             5640],\n",
       "           dtype='int64', length=16197)"
      ]
     },
     "execution_count": 69,
     "metadata": {},
     "output_type": "execute_result"
    }
   ],
   "source": [
    "x_train_cat.index"
   ]
  },
  {
   "cell_type": "code",
   "execution_count": 70,
   "metadata": {},
   "outputs": [],
   "source": [
    "ss=StandardScaler()\n",
    "ss.fit(x_train_num)\n",
    "x_train_num_scaled=ss.transform(x_train_num)\n",
    "x_pandas_scaled = pd.DataFrame(x_train_num_scaled, columns=numeric, index=x_train_cat.index)\n",
    "x_pandas_scaled = pd.DataFrame(x_train_num_scaled, columns=numeric, index=x_train_cat.index)\n",
    "df_scaled = pd.concat((x_train_cat,x_pandas_scaled), axis=1)\n",
    "df_scaled = pd.concat((df_scaled, y_train), axis=1)"
   ]
  },
  {
   "cell_type": "code",
   "execution_count": 71,
   "metadata": {},
   "outputs": [
    {
     "data": {
      "text/plain": [
       "(16197, 37)"
      ]
     },
     "execution_count": 71,
     "metadata": {},
     "output_type": "execute_result"
    }
   ],
   "source": [
    "df_scaled.shape"
   ]
  },
  {
   "cell_type": "code",
   "execution_count": 72,
   "metadata": {},
   "outputs": [
    {
     "data": {
      "text/plain": [
       "(16197,)"
      ]
     },
     "execution_count": 72,
     "metadata": {},
     "output_type": "execute_result"
    }
   ],
   "source": [
    "y_train.shape"
   ]
  },
  {
   "cell_type": "markdown",
   "metadata": {},
   "source": [
    "### NOW WE ARE GOING TO CREATE AN OLS ON THE SCALED DATA."
   ]
  },
  {
   "cell_type": "code",
   "execution_count": 73,
   "metadata": {},
   "outputs": [
    {
     "data": {
      "text/plain": [
       "(16197, 37)"
      ]
     },
     "execution_count": 73,
     "metadata": {},
     "output_type": "execute_result"
    }
   ],
   "source": [
    "df_scaled.shape"
   ]
  },
  {
   "cell_type": "code",
   "execution_count": 74,
   "metadata": {},
   "outputs": [
    {
     "name": "stdout",
     "output_type": "stream",
     "text": [
      "<class 'pandas.core.frame.DataFrame'>\n",
      "RangeIndex: 21597 entries, 0 to 21596\n",
      "Data columns (total 41 columns):\n",
      " #   Column          Non-Null Count  Dtype  \n",
      "---  ------          --------------  -----  \n",
      " 0   id              21597 non-null  int64  \n",
      " 1   price           21597 non-null  float64\n",
      " 2   bedrooms        21597 non-null  int64  \n",
      " 3   bathrooms       21597 non-null  float64\n",
      " 4   sqft_living     21597 non-null  int64  \n",
      " 5   sqft_lot        21597 non-null  int64  \n",
      " 6   floors          21597 non-null  float64\n",
      " 7   waterfront      21597 non-null  int64  \n",
      " 8   sqft_above      21597 non-null  int64  \n",
      " 9   sqft_basement   21597 non-null  float64\n",
      " 10  yr_built        21597 non-null  int64  \n",
      " 11  yr_renovated    21597 non-null  float64\n",
      " 12  zipcode         21597 non-null  int64  \n",
      " 13  lat             21597 non-null  float64\n",
      " 14  long            21597 non-null  float64\n",
      " 15  sqft_living15   21597 non-null  int64  \n",
      " 16  sqft_lot15      21597 non-null  int64  \n",
      " 17  day_sold        21597 non-null  int64  \n",
      " 18  month_sold      21597 non-null  int64  \n",
      " 19  year_sold       21597 non-null  int64  \n",
      " 20  View_Average    21597 non-null  float64\n",
      " 21  View_Excellent  21597 non-null  float64\n",
      " 22  View_Fair       21597 non-null  float64\n",
      " 23  View_Good       21597 non-null  float64\n",
      " 24  View_None       21597 non-null  float64\n",
      " 25  Cond_Average    21597 non-null  float64\n",
      " 26  Cond_Fair       21597 non-null  float64\n",
      " 27  Cond_Good       21597 non-null  float64\n",
      " 28  Cond_Poor       21597 non-null  float64\n",
      " 29  Cond_VeryGood   21597 non-null  float64\n",
      " 30  VeryGoodGrade   21597 non-null  float64\n",
      " 31  ExcellentGrade  21597 non-null  float64\n",
      " 32  LuxaryGrade     21597 non-null  float64\n",
      " 33  MansionGrade    21597 non-null  float64\n",
      " 34  PoorGrade       21597 non-null  float64\n",
      " 35  LowGrade        21597 non-null  float64\n",
      " 36  FairGrade       21597 non-null  float64\n",
      " 37  LowAvgGrade     21597 non-null  float64\n",
      " 38  AvgGrade        21597 non-null  float64\n",
      " 39  GoodGrade       21597 non-null  float64\n",
      " 40  BetterGrade     21597 non-null  float64\n",
      "dtypes: float64(28), int64(13)\n",
      "memory usage: 6.8 MB\n"
     ]
    }
   ],
   "source": [
    "\n",
    "df.info()"
   ]
  },
  {
   "cell_type": "code",
   "execution_count": 75,
   "metadata": {},
   "outputs": [
    {
     "data": {
      "text/html": [
       "<table class=\"simpletable\">\n",
       "<caption>OLS Regression Results</caption>\n",
       "<tr>\n",
       "  <th>Dep. Variable:</th>          <td>price</td>      <th>  R-squared:         </th>  <td>   0.508</td>  \n",
       "</tr>\n",
       "<tr>\n",
       "  <th>Model:</th>                   <td>OLS</td>       <th>  Adj. R-squared:    </th>  <td>   0.508</td>  \n",
       "</tr>\n",
       "<tr>\n",
       "  <th>Method:</th>             <td>Least Squares</td>  <th>  F-statistic:       </th>  <td>   5565.</td>  \n",
       "</tr>\n",
       "<tr>\n",
       "  <th>Date:</th>             <td>Wed, 17 Nov 2021</td> <th>  Prob (F-statistic):</th>   <td>  0.00</td>   \n",
       "</tr>\n",
       "<tr>\n",
       "  <th>Time:</th>                 <td>15:56:53</td>     <th>  Log-Likelihood:    </th> <td>-2.2444e+05</td>\n",
       "</tr>\n",
       "<tr>\n",
       "  <th>No. Observations:</th>      <td> 16197</td>      <th>  AIC:               </th>  <td>4.489e+05</td> \n",
       "</tr>\n",
       "<tr>\n",
       "  <th>Df Residuals:</th>          <td> 16193</td>      <th>  BIC:               </th>  <td>4.489e+05</td> \n",
       "</tr>\n",
       "<tr>\n",
       "  <th>Df Model:</th>              <td>     3</td>      <th>                     </th>      <td> </td>     \n",
       "</tr>\n",
       "<tr>\n",
       "  <th>Covariance Type:</th>      <td>nonrobust</td>    <th>                     </th>      <td> </td>     \n",
       "</tr>\n",
       "</table>\n",
       "<table class=\"simpletable\">\n",
       "<tr>\n",
       "       <td></td>          <th>coef</th>     <th>std err</th>      <th>t</th>      <th>P>|t|</th>  <th>[0.025</th>    <th>0.975]</th>  \n",
       "</tr>\n",
       "<tr>\n",
       "  <th>Intercept</th>   <td> 5.418e+05</td> <td> 1981.537</td> <td>  273.405</td> <td> 0.000</td> <td> 5.38e+05</td> <td> 5.46e+05</td>\n",
       "</tr>\n",
       "<tr>\n",
       "  <th>sqft_living</th> <td> 2.754e+05</td> <td> 3201.457</td> <td>   86.036</td> <td> 0.000</td> <td> 2.69e+05</td> <td> 2.82e+05</td>\n",
       "</tr>\n",
       "<tr>\n",
       "  <th>bedrooms</th>    <td>-5.067e+04</td> <td> 2441.057</td> <td>  -20.758</td> <td> 0.000</td> <td>-5.55e+04</td> <td>-4.59e+04</td>\n",
       "</tr>\n",
       "<tr>\n",
       "  <th>bathrooms</th>   <td> 8264.8439</td> <td> 3053.814</td> <td>    2.706</td> <td> 0.007</td> <td> 2279.030</td> <td> 1.43e+04</td>\n",
       "</tr>\n",
       "</table>\n",
       "<table class=\"simpletable\">\n",
       "<tr>\n",
       "  <th>Omnibus:</th>       <td>9473.703</td> <th>  Durbin-Watson:     </th>  <td>   2.019</td> \n",
       "</tr>\n",
       "<tr>\n",
       "  <th>Prob(Omnibus):</th>  <td> 0.000</td>  <th>  Jarque-Bera (JB):  </th> <td>189947.736</td>\n",
       "</tr>\n",
       "<tr>\n",
       "  <th>Skew:</th>           <td> 2.420</td>  <th>  Prob(JB):          </th>  <td>    0.00</td> \n",
       "</tr>\n",
       "<tr>\n",
       "  <th>Kurtosis:</th>       <td>19.064</td>  <th>  Cond. No.          </th>  <td>    3.05</td> \n",
       "</tr>\n",
       "</table><br/><br/>Notes:<br/>[1] Standard Errors assume that the covariance matrix of the errors is correctly specified."
      ],
      "text/plain": [
       "<class 'statsmodels.iolib.summary.Summary'>\n",
       "\"\"\"\n",
       "                            OLS Regression Results                            \n",
       "==============================================================================\n",
       "Dep. Variable:                  price   R-squared:                       0.508\n",
       "Model:                            OLS   Adj. R-squared:                  0.508\n",
       "Method:                 Least Squares   F-statistic:                     5565.\n",
       "Date:                Wed, 17 Nov 2021   Prob (F-statistic):               0.00\n",
       "Time:                        15:56:53   Log-Likelihood:            -2.2444e+05\n",
       "No. Observations:               16197   AIC:                         4.489e+05\n",
       "Df Residuals:                   16193   BIC:                         4.489e+05\n",
       "Df Model:                           3                                         \n",
       "Covariance Type:            nonrobust                                         \n",
       "===============================================================================\n",
       "                  coef    std err          t      P>|t|      [0.025      0.975]\n",
       "-------------------------------------------------------------------------------\n",
       "Intercept    5.418e+05   1981.537    273.405      0.000    5.38e+05    5.46e+05\n",
       "sqft_living  2.754e+05   3201.457     86.036      0.000    2.69e+05    2.82e+05\n",
       "bedrooms    -5.067e+04   2441.057    -20.758      0.000   -5.55e+04   -4.59e+04\n",
       "bathrooms    8264.8439   3053.814      2.706      0.007    2279.030    1.43e+04\n",
       "==============================================================================\n",
       "Omnibus:                     9473.703   Durbin-Watson:                   2.019\n",
       "Prob(Omnibus):                  0.000   Jarque-Bera (JB):           189947.736\n",
       "Skew:                           2.420   Prob(JB):                         0.00\n",
       "Kurtosis:                      19.064   Cond. No.                         3.05\n",
       "==============================================================================\n",
       "\n",
       "Notes:\n",
       "[1] Standard Errors assume that the covariance matrix of the errors is correctly specified.\n",
       "\"\"\""
      ]
     },
     "execution_count": 75,
     "metadata": {},
     "output_type": "execute_result"
    }
   ],
   "source": [
    "formula = 'price ~ sqft_living + bedrooms + bathrooms'\n",
    "model = ols(formula=formula, data=df_scaled).fit()\n",
    "model.summary()\n",
    "\n"
   ]
  },
  {
   "cell_type": "code",
   "execution_count": 76,
   "metadata": {},
   "outputs": [
    {
     "data": {
      "text/plain": [
       "(array([6.237e+03, 7.663e+03, 1.918e+03, 3.040e+02, 5.200e+01, 1.900e+01,\n",
       "        2.000e+00, 1.000e+00, 0.000e+00, 1.000e+00]),\n",
       " array([-1.8711446 , -0.43320706,  1.00473047,  2.44266801,  3.88060555,\n",
       "         5.31854308,  6.75648062,  8.19441815,  9.63235569, 11.07029322,\n",
       "        12.50823076]),\n",
       " <BarContainer object of 10 artists>)"
      ]
     },
     "execution_count": 76,
     "metadata": {},
     "output_type": "execute_result"
    },
    {
     "data": {
      "image/png": "[encoded data removed]",
      "text/plain": [
       "<Figure size 432x288 with 1 Axes>"
      ]
     },
     "metadata": {
      "needs_background": "light"
     },
     "output_type": "display_data"
    }
   ],
   "source": [
    "plt.hist(df_scaled['sqft_living'])"
   ]
  },
  {
   "cell_type": "code",
   "execution_count": 77,
   "metadata": {},
   "outputs": [
    {
     "data": {
      "image/png": "[encoded data removed]",
      "text/plain": [
       "<Figure size 432x288 with 1 Axes>"
      ]
     },
     "metadata": {
      "needs_background": "light"
     },
     "output_type": "display_data"
    }
   ],
   "source": [
    "xxxx = np.log(df['sqft_living'])\n",
    "plt.hist(xxxx);"
   ]
  },
  {
   "cell_type": "code",
   "execution_count": 78,
   "metadata": {},
   "outputs": [
    {
     "data": {
      "text/plain": [
       "(array([1.478e+04, 1.398e+03, 1.700e+01, 1.000e+00, 0.000e+00, 0.000e+00,\n",
       "        0.000e+00, 0.000e+00, 0.000e+00, 1.000e+00]),\n",
       " array([-2.55548618,  0.89333222,  4.34215062,  7.79096902, 11.23978742,\n",
       "        14.68860582, 18.13742422, 21.58624262, 25.03506102, 28.48387942,\n",
       "        31.93269782]),\n",
       " <BarContainer object of 10 artists>)"
      ]
     },
     "execution_count": 78,
     "metadata": {},
     "output_type": "execute_result"
    },
    {
     "data": {
      "image/png": "[encoded data removed]",
      "text/plain": [
       "<Figure size 432x288 with 1 Axes>"
      ]
     },
     "metadata": {
      "needs_background": "light"
     },
     "output_type": "display_data"
    }
   ],
   "source": [
    "plt.hist(df_scaled['bedrooms'])"
   ]
  },
  {
   "cell_type": "code",
   "execution_count": 79,
   "metadata": {},
   "outputs": [
    {
     "data": {
      "text/plain": [
       "(array([2.918e+03, 4.822e+03, 5.576e+03, 1.912e+03, 7.670e+02, 1.490e+02,\n",
       "        3.600e+01, 1.100e+01, 4.000e+00, 2.000e+00]),\n",
       " array([-2.10254803, -1.12863989, -0.15473176,  0.81917638,  1.79308452,\n",
       "         2.76699265,  3.74090079,  4.71480892,  5.68871706,  6.6626252 ,\n",
       "         7.63653333]),\n",
       " <BarContainer object of 10 artists>)"
      ]
     },
     "execution_count": 79,
     "metadata": {},
     "output_type": "execute_result"
    },
    {
     "data": {
      "image/png": "[encoded data removed]",
      "text/plain": [
       "<Figure size 432x288 with 1 Axes>"
      ]
     },
     "metadata": {
      "needs_background": "light"
     },
     "output_type": "display_data"
    }
   ],
   "source": [
    "plt.hist(df_scaled['bathrooms'])"
   ]
  },
  {
   "cell_type": "code",
   "execution_count": 80,
   "metadata": {},
   "outputs": [
    {
     "name": "stderr",
     "output_type": "stream",
     "text": [
      "/Users/adamlarsen/opt/anaconda3/envs/learn-env/lib/python3.8/site-packages/pandas/core/series.py:726: RuntimeWarning: invalid value encountered in log\n",
      "  result = getattr(ufunc, method)(*inputs, **kwargs)\n"
     ]
    }
   ],
   "source": [
    "yyyy = np.log(df_scaled['bathrooms'])\n",
    "zzzz = np.log(df_scaled['bedrooms'])"
   ]
  },
  {
   "cell_type": "code",
   "execution_count": 81,
   "metadata": {},
   "outputs": [
    {
     "data": {
      "text/plain": [
       "(array([2.925e+03, 4.815e+03, 6.469e+03, 1.557e+03, 2.290e+02, 1.650e+02,\n",
       "        2.000e+01, 1.300e+01, 2.000e+00, 2.000e+00]),\n",
       " array([0. , 0.1, 0.2, 0.3, 0.4, 0.5, 0.6, 0.7, 0.8, 0.9, 1. ]),\n",
       " <BarContainer object of 10 artists>)"
      ]
     },
     "execution_count": 81,
     "metadata": {},
     "output_type": "execute_result"
    },
    {
     "data": {
      "image/png": "[encoded data removed]",
      "text/plain": [
       "<Figure size 432x288 with 1 Axes>"
      ]
     },
     "metadata": {
      "needs_background": "light"
     },
     "output_type": "display_data"
    }
   ],
   "source": [
    "bas = df_scaled['bathrooms']\n",
    "bes = df_scaled['bedrooms']\n",
    "\n",
    "scaled_bathrooms = (bas - min(bas)) / (max(bas) - min(bas))\n",
    "scaled_bedrooms = (bes - min(bes)) / ((max(bes)) - min(bes))\n",
    "\n",
    "plt.hist(scaled_bathrooms)\n",
    "\n",
    "# This looks way better for bathrooms, almost more normally distributed."
   ]
  },
  {
   "cell_type": "code",
   "execution_count": 82,
   "metadata": {},
   "outputs": [
    {
     "data": {
      "text/plain": [
       "(array([1.478e+04, 1.398e+03, 1.700e+01, 1.000e+00, 0.000e+00, 0.000e+00,\n",
       "        0.000e+00, 0.000e+00, 0.000e+00, 1.000e+00]),\n",
       " array([0. , 0.1, 0.2, 0.3, 0.4, 0.5, 0.6, 0.7, 0.8, 0.9, 1. ]),\n",
       " <BarContainer object of 10 artists>)"
      ]
     },
     "execution_count": 82,
     "metadata": {},
     "output_type": "execute_result"
    },
    {
     "data": {
      "image/png": "[encoded data removed]",
      "text/plain": [
       "<Figure size 432x288 with 1 Axes>"
      ]
     },
     "metadata": {
      "needs_background": "light"
     },
     "output_type": "display_data"
    }
   ],
   "source": [
    "plt.hist(scaled_bedrooms)"
   ]
  },
  {
   "cell_type": "code",
   "execution_count": 83,
   "metadata": {},
   "outputs": [
    {
     "name": "stderr",
     "output_type": "stream",
     "text": [
      "/Users/adamlarsen/opt/anaconda3/envs/learn-env/lib/python3.8/site-packages/numpy/lib/histograms.py:839: RuntimeWarning: invalid value encountered in greater_equal\n",
      "  keep = (tmp_a >= first_edge)\n",
      "/Users/adamlarsen/opt/anaconda3/envs/learn-env/lib/python3.8/site-packages/numpy/lib/histograms.py:840: RuntimeWarning: invalid value encountered in less_equal\n",
      "  keep &= (tmp_a <= last_edge)\n"
     ]
    },
    {
     "data": {
      "text/plain": [
       "(array([5.171e+03, 0.000e+00, 1.176e+03, 1.950e+02, 2.700e+01, 1.500e+01,\n",
       "        3.000e+00, 0.000e+00, 0.000e+00, 1.000e+00]),\n",
       " array([-0.05859714,  0.04140286,  0.14140286,  0.24140286,  0.34140286,\n",
       "         0.44140286,  0.54140286,  0.64140286,  0.74140286,  0.84140286,\n",
       "         0.94140286]),\n",
       " <BarContainer object of 10 artists>)"
      ]
     },
     "execution_count": 83,
     "metadata": {},
     "output_type": "execute_result"
    },
    {
     "data": {
      "image/png": "[encoded data removed]",
      "text/plain": [
       "<Figure size 432x288 with 1 Axes>"
      ]
     },
     "metadata": {
      "needs_background": "light"
     },
     "output_type": "display_data"
    }
   ],
   "source": [
    "scaled_bedrooms2 = (zzzz - np.mean(zzzz)) / (max(zzzz) - min(zzzz))\n",
    "plt.hist(scaled_bedrooms2)\n",
    "\n",
    "# scaled_horse = (loghorse - np.mean(loghorse)) / (max(loghorse) - min(loghorse))"
   ]
  },
  {
   "cell_type": "code",
   "execution_count": 84,
   "metadata": {},
   "outputs": [
    {
     "data": {
      "text/plain": [
       "(array([5.171e+03, 0.000e+00, 1.176e+03, 1.950e+02, 2.700e+01, 1.500e+01,\n",
       "        3.000e+00, 0.000e+00, 0.000e+00, 1.000e+00]),\n",
       " array([-0.38893094, -0.0036748 ,  0.38158135,  0.76683749,  1.15209363,\n",
       "         1.53734978,  1.92260592,  2.30786206,  2.69311821,  3.07837435,\n",
       "         3.46363049]),\n",
       " <BarContainer object of 10 artists>)"
      ]
     },
     "execution_count": 84,
     "metadata": {},
     "output_type": "execute_result"
    },
    {
     "data": {
      "image/png": "[encoded data removed]",
      "text/plain": [
       "<Figure size 432x288 with 1 Axes>"
      ]
     },
     "metadata": {
      "needs_background": "light"
     },
     "output_type": "display_data"
    }
   ],
   "source": [
    "plt.hist(zzzz) #bedrooms"
   ]
  },
  {
   "cell_type": "code",
   "execution_count": 85,
   "metadata": {},
   "outputs": [
    {
     "data": {
      "text/html": [
       "<div>\n",
       "<style scoped>\n",
       "    .dataframe tbody tr th:only-of-type {\n",
       "        vertical-align: middle;\n",
       "    }\n",
       "\n",
       "    .dataframe tbody tr th {\n",
       "        vertical-align: top;\n",
       "    }\n",
       "\n",
       "    .dataframe thead th {\n",
       "        text-align: right;\n",
       "    }\n",
       "</style>\n",
       "<table border=\"1\" class=\"dataframe\">\n",
       "  <thead>\n",
       "    <tr style=\"text-align: right;\">\n",
       "      <th></th>\n",
       "      <th>year_sold</th>\n",
       "      <th>month_sold</th>\n",
       "      <th>day_sold</th>\n",
       "      <th>BetterGrade</th>\n",
       "      <th>GoodGrade</th>\n",
       "      <th>AvgGrade</th>\n",
       "      <th>LowAvgGrade</th>\n",
       "      <th>FairGrade</th>\n",
       "      <th>LowGrade</th>\n",
       "      <th>PoorGrade</th>\n",
       "      <th>...</th>\n",
       "      <th>id</th>\n",
       "      <th>sqft_living</th>\n",
       "      <th>long</th>\n",
       "      <th>lat</th>\n",
       "      <th>sqft_lot</th>\n",
       "      <th>zipcode</th>\n",
       "      <th>bedrooms</th>\n",
       "      <th>bathrooms</th>\n",
       "      <th>floors</th>\n",
       "      <th>price</th>\n",
       "    </tr>\n",
       "  </thead>\n",
       "  <tbody>\n",
       "    <tr>\n",
       "      <th>7152</th>\n",
       "      <td>2015</td>\n",
       "      <td>2</td>\n",
       "      <td>20</td>\n",
       "      <td>0.0</td>\n",
       "      <td>0.0</td>\n",
       "      <td>1.0</td>\n",
       "      <td>0.0</td>\n",
       "      <td>0.0</td>\n",
       "      <td>0.0</td>\n",
       "      <td>0.0</td>\n",
       "      <td>...</td>\n",
       "      <td>7201600190</td>\n",
       "      <td>-0.560951</td>\n",
       "      <td>0.767978</td>\n",
       "      <td>0.863679</td>\n",
       "      <td>-0.180473</td>\n",
       "      <td>-0.486631</td>\n",
       "      <td>0.677781</td>\n",
       "      <td>-0.479368</td>\n",
       "      <td>-0.916579</td>\n",
       "      <td>430000.0</td>\n",
       "    </tr>\n",
       "    <tr>\n",
       "      <th>8823</th>\n",
       "      <td>2014</td>\n",
       "      <td>8</td>\n",
       "      <td>27</td>\n",
       "      <td>0.0</td>\n",
       "      <td>0.0</td>\n",
       "      <td>1.0</td>\n",
       "      <td>0.0</td>\n",
       "      <td>0.0</td>\n",
       "      <td>0.0</td>\n",
       "      <td>0.0</td>\n",
       "      <td>...</td>\n",
       "      <td>2558600100</td>\n",
       "      <td>0.017718</td>\n",
       "      <td>0.292357</td>\n",
       "      <td>1.180919</td>\n",
       "      <td>-0.062092</td>\n",
       "      <td>-0.823387</td>\n",
       "      <td>0.677781</td>\n",
       "      <td>-0.154732</td>\n",
       "      <td>-0.916579</td>\n",
       "      <td>500000.0</td>\n",
       "    </tr>\n",
       "    <tr>\n",
       "      <th>11039</th>\n",
       "      <td>2015</td>\n",
       "      <td>4</td>\n",
       "      <td>16</td>\n",
       "      <td>0.0</td>\n",
       "      <td>0.0</td>\n",
       "      <td>1.0</td>\n",
       "      <td>0.0</td>\n",
       "      <td>0.0</td>\n",
       "      <td>0.0</td>\n",
       "      <td>0.0</td>\n",
       "      <td>...</td>\n",
       "      <td>8849300320</td>\n",
       "      <td>-0.822990</td>\n",
       "      <td>-0.403328</td>\n",
       "      <td>-0.873177</td>\n",
       "      <td>-0.062140</td>\n",
       "      <td>2.057749</td>\n",
       "      <td>-0.399975</td>\n",
       "      <td>-0.479368</td>\n",
       "      <td>-0.916579</td>\n",
       "      <td>265000.0</td>\n",
       "    </tr>\n",
       "    <tr>\n",
       "      <th>17557</th>\n",
       "      <td>2014</td>\n",
       "      <td>6</td>\n",
       "      <td>26</td>\n",
       "      <td>1.0</td>\n",
       "      <td>0.0</td>\n",
       "      <td>0.0</td>\n",
       "      <td>0.0</td>\n",
       "      <td>0.0</td>\n",
       "      <td>0.0</td>\n",
       "      <td>0.0</td>\n",
       "      <td>...</td>\n",
       "      <td>3751606514</td>\n",
       "      <td>-0.331667</td>\n",
       "      <td>-0.360735</td>\n",
       "      <td>-2.097957</td>\n",
       "      <td>1.567163</td>\n",
       "      <td>-1.440774</td>\n",
       "      <td>-1.477730</td>\n",
       "      <td>-1.453276</td>\n",
       "      <td>-0.916579</td>\n",
       "      <td>270000.0</td>\n",
       "    </tr>\n",
       "    <tr>\n",
       "      <th>16607</th>\n",
       "      <td>2015</td>\n",
       "      <td>3</td>\n",
       "      <td>4</td>\n",
       "      <td>0.0</td>\n",
       "      <td>1.0</td>\n",
       "      <td>0.0</td>\n",
       "      <td>0.0</td>\n",
       "      <td>0.0</td>\n",
       "      <td>0.0</td>\n",
       "      <td>0.0</td>\n",
       "      <td>...</td>\n",
       "      <td>2607720440</td>\n",
       "      <td>-0.113301</td>\n",
       "      <td>2.926019</td>\n",
       "      <td>-0.545072</td>\n",
       "      <td>-0.131049</td>\n",
       "      <td>-0.617592</td>\n",
       "      <td>-0.399975</td>\n",
       "      <td>0.494540</td>\n",
       "      <td>0.935215</td>\n",
       "      <td>470000.0</td>\n",
       "    </tr>\n",
       "    <tr>\n",
       "      <th>...</th>\n",
       "      <td>...</td>\n",
       "      <td>...</td>\n",
       "      <td>...</td>\n",
       "      <td>...</td>\n",
       "      <td>...</td>\n",
       "      <td>...</td>\n",
       "      <td>...</td>\n",
       "      <td>...</td>\n",
       "      <td>...</td>\n",
       "      <td>...</td>\n",
       "      <td>...</td>\n",
       "      <td>...</td>\n",
       "      <td>...</td>\n",
       "      <td>...</td>\n",
       "      <td>...</td>\n",
       "      <td>...</td>\n",
       "      <td>...</td>\n",
       "      <td>...</td>\n",
       "      <td>...</td>\n",
       "      <td>...</td>\n",
       "      <td>...</td>\n",
       "    </tr>\n",
       "    <tr>\n",
       "      <th>16304</th>\n",
       "      <td>2014</td>\n",
       "      <td>8</td>\n",
       "      <td>4</td>\n",
       "      <td>0.0</td>\n",
       "      <td>1.0</td>\n",
       "      <td>0.0</td>\n",
       "      <td>0.0</td>\n",
       "      <td>0.0</td>\n",
       "      <td>0.0</td>\n",
       "      <td>0.0</td>\n",
       "      <td>...</td>\n",
       "      <td>8001450170</td>\n",
       "      <td>-0.266157</td>\n",
       "      <td>-0.431723</td>\n",
       "      <td>-1.739432</td>\n",
       "      <td>0.034590</td>\n",
       "      <td>-1.440774</td>\n",
       "      <td>-0.399975</td>\n",
       "      <td>-0.479368</td>\n",
       "      <td>-0.916579</td>\n",
       "      <td>274950.0</td>\n",
       "    </tr>\n",
       "    <tr>\n",
       "      <th>79</th>\n",
       "      <td>2015</td>\n",
       "      <td>3</td>\n",
       "      <td>23</td>\n",
       "      <td>0.0</td>\n",
       "      <td>0.0</td>\n",
       "      <td>0.0</td>\n",
       "      <td>0.0</td>\n",
       "      <td>0.0</td>\n",
       "      <td>0.0</td>\n",
       "      <td>0.0</td>\n",
       "      <td>...</td>\n",
       "      <td>1531000030</td>\n",
       "      <td>1.491686</td>\n",
       "      <td>1.342982</td>\n",
       "      <td>-1.585157</td>\n",
       "      <td>0.582526</td>\n",
       "      <td>-1.272395</td>\n",
       "      <td>0.677781</td>\n",
       "      <td>0.494540</td>\n",
       "      <td>0.935215</td>\n",
       "      <td>720000.0</td>\n",
       "    </tr>\n",
       "    <tr>\n",
       "      <th>12119</th>\n",
       "      <td>2014</td>\n",
       "      <td>5</td>\n",
       "      <td>20</td>\n",
       "      <td>0.0</td>\n",
       "      <td>0.0</td>\n",
       "      <td>1.0</td>\n",
       "      <td>0.0</td>\n",
       "      <td>0.0</td>\n",
       "      <td>0.0</td>\n",
       "      <td>0.0</td>\n",
       "      <td>...</td>\n",
       "      <td>1042500013</td>\n",
       "      <td>-0.473605</td>\n",
       "      <td>-0.807960</td>\n",
       "      <td>-1.682937</td>\n",
       "      <td>-0.126023</td>\n",
       "      <td>-1.403356</td>\n",
       "      <td>-0.399975</td>\n",
       "      <td>-0.804004</td>\n",
       "      <td>-0.916579</td>\n",
       "      <td>219950.0</td>\n",
       "    </tr>\n",
       "    <tr>\n",
       "      <th>14147</th>\n",
       "      <td>2015</td>\n",
       "      <td>1</td>\n",
       "      <td>14</td>\n",
       "      <td>0.0</td>\n",
       "      <td>0.0</td>\n",
       "      <td>1.0</td>\n",
       "      <td>0.0</td>\n",
       "      <td>0.0</td>\n",
       "      <td>0.0</td>\n",
       "      <td>0.0</td>\n",
       "      <td>...</td>\n",
       "      <td>5153200666</td>\n",
       "      <td>-0.200648</td>\n",
       "      <td>-0.992530</td>\n",
       "      <td>-1.707563</td>\n",
       "      <td>0.066055</td>\n",
       "      <td>-1.029183</td>\n",
       "      <td>-0.399975</td>\n",
       "      <td>0.169904</td>\n",
       "      <td>-0.916579</td>\n",
       "      <td>212000.0</td>\n",
       "    </tr>\n",
       "    <tr>\n",
       "      <th>5640</th>\n",
       "      <td>2015</td>\n",
       "      <td>4</td>\n",
       "      <td>10</td>\n",
       "      <td>0.0</td>\n",
       "      <td>0.0</td>\n",
       "      <td>0.0</td>\n",
       "      <td>0.0</td>\n",
       "      <td>0.0</td>\n",
       "      <td>0.0</td>\n",
       "      <td>0.0</td>\n",
       "      <td>...</td>\n",
       "      <td>3342101937</td>\n",
       "      <td>1.502604</td>\n",
       "      <td>0.072293</td>\n",
       "      <td>-0.295191</td>\n",
       "      <td>-0.234067</td>\n",
       "      <td>-0.411796</td>\n",
       "      <td>1.755537</td>\n",
       "      <td>2.442357</td>\n",
       "      <td>0.935215</td>\n",
       "      <td>980000.0</td>\n",
       "    </tr>\n",
       "  </tbody>\n",
       "</table>\n",
       "<p>16197 rows × 37 columns</p>\n",
       "</div>"
      ],
      "text/plain": [
       "       year_sold  month_sold  day_sold  BetterGrade  GoodGrade  AvgGrade  \\\n",
       "7152        2015           2        20          0.0        0.0       1.0   \n",
       "8823        2014           8        27          0.0        0.0       1.0   \n",
       "11039       2015           4        16          0.0        0.0       1.0   \n",
       "17557       2014           6        26          1.0        0.0       0.0   \n",
       "16607       2015           3         4          0.0        1.0       0.0   \n",
       "...          ...         ...       ...          ...        ...       ...   \n",
       "16304       2014           8         4          0.0        1.0       0.0   \n",
       "79          2015           3        23          0.0        0.0       0.0   \n",
       "12119       2014           5        20          0.0        0.0       1.0   \n",
       "14147       2015           1        14          0.0        0.0       1.0   \n",
       "5640        2015           4        10          0.0        0.0       0.0   \n",
       "\n",
       "       LowAvgGrade  FairGrade  LowGrade  PoorGrade  ...          id  \\\n",
       "7152           0.0        0.0       0.0        0.0  ...  7201600190   \n",
       "8823           0.0        0.0       0.0        0.0  ...  2558600100   \n",
       "11039          0.0        0.0       0.0        0.0  ...  8849300320   \n",
       "17557          0.0        0.0       0.0        0.0  ...  3751606514   \n",
       "16607          0.0        0.0       0.0        0.0  ...  2607720440   \n",
       "...            ...        ...       ...        ...  ...         ...   \n",
       "16304          0.0        0.0       0.0        0.0  ...  8001450170   \n",
       "79             0.0        0.0       0.0        0.0  ...  1531000030   \n",
       "12119          0.0        0.0       0.0        0.0  ...  1042500013   \n",
       "14147          0.0        0.0       0.0        0.0  ...  5153200666   \n",
       "5640           0.0        0.0       0.0        0.0  ...  3342101937   \n",
       "\n",
       "       sqft_living      long       lat  sqft_lot   zipcode  bedrooms  \\\n",
       "7152     -0.560951  0.767978  0.863679 -0.180473 -0.486631  0.677781   \n",
       "8823      0.017718  0.292357  1.180919 -0.062092 -0.823387  0.677781   \n",
       "11039    -0.822990 -0.403328 -0.873177 -0.062140  2.057749 -0.399975   \n",
       "17557    -0.331667 -0.360735 -2.097957  1.567163 -1.440774 -1.477730   \n",
       "16607    -0.113301  2.926019 -0.545072 -0.131049 -0.617592 -0.399975   \n",
       "...            ...       ...       ...       ...       ...       ...   \n",
       "16304    -0.266157 -0.431723 -1.739432  0.034590 -1.440774 -0.399975   \n",
       "79        1.491686  1.342982 -1.585157  0.582526 -1.272395  0.677781   \n",
       "12119    -0.473605 -0.807960 -1.682937 -0.126023 -1.403356 -0.399975   \n",
       "14147    -0.200648 -0.992530 -1.707563  0.066055 -1.029183 -0.399975   \n",
       "5640      1.502604  0.072293 -0.295191 -0.234067 -0.411796  1.755537   \n",
       "\n",
       "       bathrooms    floors     price  \n",
       "7152   -0.479368 -0.916579  430000.0  \n",
       "8823   -0.154732 -0.916579  500000.0  \n",
       "11039  -0.479368 -0.916579  265000.0  \n",
       "17557  -1.453276 -0.916579  270000.0  \n",
       "16607   0.494540  0.935215  470000.0  \n",
       "...          ...       ...       ...  \n",
       "16304  -0.479368 -0.916579  274950.0  \n",
       "79      0.494540  0.935215  720000.0  \n",
       "12119  -0.804004 -0.916579  219950.0  \n",
       "14147   0.169904 -0.916579  212000.0  \n",
       "5640    2.442357  0.935215  980000.0  \n",
       "\n",
       "[16197 rows x 37 columns]"
      ]
     },
     "execution_count": 85,
     "metadata": {},
     "output_type": "execute_result"
    },
    {
     "data": {
      "image/png": "[encoded data removed]",
      "text/plain": [
       "<Figure size 432x288 with 1 Axes>"
      ]
     },
     "metadata": {
      "needs_background": "light"
     },
     "output_type": "display_data"
    }
   ],
   "source": [
    "plt.hist(yyyy) #bathrooms\n",
    "df_scaled"
   ]
  },
  {
   "cell_type": "code",
   "execution_count": 86,
   "metadata": {},
   "outputs": [],
   "source": [
    "df_scaled.head()\n",
    "df_scaled['bathrooms_minmax'] = scaled_bathrooms"
   ]
  },
  {
   "cell_type": "code",
   "execution_count": null,
   "metadata": {},
   "outputs": [],
   "source": []
  },
  {
   "cell_type": "code",
   "execution_count": 87,
   "metadata": {},
   "outputs": [
    {
     "data": {
      "image/png": "[encoded data removed]",
      "text/plain": [
       "<Figure size 432x288 with 1 Axes>"
      ]
     },
     "metadata": {
      "needs_background": "light"
     },
     "output_type": "display_data"
    }
   ],
   "source": [
    "plt.hist(df_scaled['bathrooms_minmax']);\n",
    "df_scaled['log_sqft'] = xxxx"
   ]
  },
  {
   "cell_type": "code",
   "execution_count": 88,
   "metadata": {},
   "outputs": [
    {
     "data": {
      "text/html": [
       "<table class=\"simpletable\">\n",
       "<caption>OLS Regression Results</caption>\n",
       "<tr>\n",
       "  <th>Dep. Variable:</th>          <td>price</td>      <th>  R-squared:         </th>  <td>   0.393</td>  \n",
       "</tr>\n",
       "<tr>\n",
       "  <th>Model:</th>                   <td>OLS</td>       <th>  Adj. R-squared:    </th>  <td>   0.393</td>  \n",
       "</tr>\n",
       "<tr>\n",
       "  <th>Method:</th>             <td>Least Squares</td>  <th>  F-statistic:       </th>  <td>   5238.</td>  \n",
       "</tr>\n",
       "<tr>\n",
       "  <th>Date:</th>             <td>Wed, 17 Nov 2021</td> <th>  Prob (F-statistic):</th>   <td>  0.00</td>   \n",
       "</tr>\n",
       "<tr>\n",
       "  <th>Time:</th>                 <td>15:56:56</td>     <th>  Log-Likelihood:    </th> <td>-2.2614e+05</td>\n",
       "</tr>\n",
       "<tr>\n",
       "  <th>No. Observations:</th>      <td> 16197</td>      <th>  AIC:               </th>  <td>4.523e+05</td> \n",
       "</tr>\n",
       "<tr>\n",
       "  <th>Df Residuals:</th>          <td> 16194</td>      <th>  BIC:               </th>  <td>4.523e+05</td> \n",
       "</tr>\n",
       "<tr>\n",
       "  <th>Df Model:</th>              <td>     2</td>      <th>                     </th>      <td> </td>     \n",
       "</tr>\n",
       "<tr>\n",
       "  <th>Covariance Type:</th>      <td>nonrobust</td>    <th>                     </th>      <td> </td>     \n",
       "</tr>\n",
       "</table>\n",
       "<table class=\"simpletable\">\n",
       "<tr>\n",
       "          <td></td>            <th>coef</th>     <th>std err</th>      <th>t</th>      <th>P>|t|</th>  <th>[0.025</th>    <th>0.975]</th>  \n",
       "</tr>\n",
       "<tr>\n",
       "  <th>Intercept</th>        <td>-2.874e+06</td> <td> 5.54e+04</td> <td>  -51.923</td> <td> 0.000</td> <td>-2.98e+06</td> <td>-2.77e+06</td>\n",
       "</tr>\n",
       "<tr>\n",
       "  <th>log_sqft</th>         <td> 4.386e+05</td> <td> 8016.020</td> <td>   54.715</td> <td> 0.000</td> <td> 4.23e+05</td> <td> 4.54e+05</td>\n",
       "</tr>\n",
       "<tr>\n",
       "  <th>bathrooms_minmax</th> <td> 4.781e+05</td> <td>  3.3e+04</td> <td>   14.473</td> <td> 0.000</td> <td> 4.13e+05</td> <td> 5.43e+05</td>\n",
       "</tr>\n",
       "</table>\n",
       "<table class=\"simpletable\">\n",
       "<tr>\n",
       "  <th>Omnibus:</th>       <td>11780.009</td> <th>  Durbin-Watson:     </th>  <td>   2.021</td> \n",
       "</tr>\n",
       "<tr>\n",
       "  <th>Prob(Omnibus):</th>  <td> 0.000</td>   <th>  Jarque-Bera (JB):  </th> <td>384684.924</td>\n",
       "</tr>\n",
       "<tr>\n",
       "  <th>Skew:</th>           <td> 3.131</td>   <th>  Prob(JB):          </th>  <td>    0.00</td> \n",
       "</tr>\n",
       "<tr>\n",
       "  <th>Kurtosis:</th>       <td>26.039</td>   <th>  Cond. No.          </th>  <td>    213.</td> \n",
       "</tr>\n",
       "</table><br/><br/>Notes:<br/>[1] Standard Errors assume that the covariance matrix of the errors is correctly specified."
      ],
      "text/plain": [
       "<class 'statsmodels.iolib.summary.Summary'>\n",
       "\"\"\"\n",
       "                            OLS Regression Results                            \n",
       "==============================================================================\n",
       "Dep. Variable:                  price   R-squared:                       0.393\n",
       "Model:                            OLS   Adj. R-squared:                  0.393\n",
       "Method:                 Least Squares   F-statistic:                     5238.\n",
       "Date:                Wed, 17 Nov 2021   Prob (F-statistic):               0.00\n",
       "Time:                        15:56:56   Log-Likelihood:            -2.2614e+05\n",
       "No. Observations:               16197   AIC:                         4.523e+05\n",
       "Df Residuals:                   16194   BIC:                         4.523e+05\n",
       "Df Model:                           2                                         \n",
       "Covariance Type:            nonrobust                                         \n",
       "====================================================================================\n",
       "                       coef    std err          t      P>|t|      [0.025      0.975]\n",
       "------------------------------------------------------------------------------------\n",
       "Intercept        -2.874e+06   5.54e+04    -51.923      0.000   -2.98e+06   -2.77e+06\n",
       "log_sqft          4.386e+05   8016.020     54.715      0.000    4.23e+05    4.54e+05\n",
       "bathrooms_minmax  4.781e+05    3.3e+04     14.473      0.000    4.13e+05    5.43e+05\n",
       "==============================================================================\n",
       "Omnibus:                    11780.009   Durbin-Watson:                   2.021\n",
       "Prob(Omnibus):                  0.000   Jarque-Bera (JB):           384684.924\n",
       "Skew:                           3.131   Prob(JB):                         0.00\n",
       "Kurtosis:                      26.039   Cond. No.                         213.\n",
       "==============================================================================\n",
       "\n",
       "Notes:\n",
       "[1] Standard Errors assume that the covariance matrix of the errors is correctly specified.\n",
       "\"\"\""
      ]
     },
     "execution_count": 88,
     "metadata": {},
     "output_type": "execute_result"
    }
   ],
   "source": [
    "formula = 'price ~ log_sqft + bathrooms_minmax'\n",
    "model = ols(formula=formula, data=df_scaled).fit()\n",
    "model.summary()"
   ]
  },
  {
   "cell_type": "code",
   "execution_count": 89,
   "metadata": {
    "scrolled": false
   },
   "outputs": [
    {
     "name": "stderr",
     "output_type": "stream",
     "text": [
      "/Users/adamlarsen/opt/anaconda3/envs/learn-env/lib/python3.8/site-packages/pandas/core/series.py:726: RuntimeWarning: divide by zero encountered in log\n",
      "  result = getattr(ufunc, method)(*inputs, **kwargs)\n",
      "/Users/adamlarsen/opt/anaconda3/envs/learn-env/lib/python3.8/site-packages/pandas/core/series.py:726: RuntimeWarning: invalid value encountered in log\n",
      "  result = getattr(ufunc, method)(*inputs, **kwargs)\n"
     ]
    },
    {
     "data": {
      "image/png": "[encoded data removed]",
      "text/plain": [
       "<Figure size 720x1800 with 39 Axes>"
      ]
     },
     "metadata": {
      "needs_background": "light"
     },
     "output_type": "display_data"
    }
   ],
   "source": [
    "X = df.drop('price', axis=1)\n",
    "\n",
    "fig, axes = plt.subplots(ncols=3, nrows=13, figsize=(10, 25))\n",
    "fig.set_tight_layout(True)\n",
    "\n",
    "for index, col in enumerate(df_scaled.columns):\n",
    "    ax = axes[index//3][index%3]\n",
    "    ax.scatter(np.log(df_scaled[col]), (y_train), alpha=0.2)\n",
    "    ax.set_xlabel(col)\n",
    "    ax.set_ylabel(\"listing price\")"
   ]
  },
  {
   "cell_type": "code",
   "execution_count": 90,
   "metadata": {},
   "outputs": [],
   "source": [
    "meanie = df_scaled['log_sqft'].quantile(.25)\n",
    "df_scaled_2 = df_scaled[df_scaled['log_sqft'] < meanie]"
   ]
  },
  {
   "cell_type": "code",
   "execution_count": 91,
   "metadata": {
    "scrolled": true
   },
   "outputs": [
    {
     "data": {
      "text/html": [
       "<table class=\"simpletable\">\n",
       "<caption>OLS Regression Results</caption>\n",
       "<tr>\n",
       "  <th>Dep. Variable:</th>          <td>price</td>      <th>  R-squared:         </th> <td>   0.059</td> \n",
       "</tr>\n",
       "<tr>\n",
       "  <th>Model:</th>                   <td>OLS</td>       <th>  Adj. R-squared:    </th> <td>   0.058</td> \n",
       "</tr>\n",
       "<tr>\n",
       "  <th>Method:</th>             <td>Least Squares</td>  <th>  F-statistic:       </th> <td>   125.4</td> \n",
       "</tr>\n",
       "<tr>\n",
       "  <th>Date:</th>             <td>Wed, 17 Nov 2021</td> <th>  Prob (F-statistic):</th> <td>1.46e-53</td> \n",
       "</tr>\n",
       "<tr>\n",
       "  <th>Time:</th>                 <td>15:57:01</td>     <th>  Log-Likelihood:    </th> <td> -53090.</td> \n",
       "</tr>\n",
       "<tr>\n",
       "  <th>No. Observations:</th>      <td>  4025</td>      <th>  AIC:               </th> <td>1.062e+05</td>\n",
       "</tr>\n",
       "<tr>\n",
       "  <th>Df Residuals:</th>          <td>  4022</td>      <th>  BIC:               </th> <td>1.062e+05</td>\n",
       "</tr>\n",
       "<tr>\n",
       "  <th>Df Model:</th>              <td>     2</td>      <th>                     </th>     <td> </td>    \n",
       "</tr>\n",
       "<tr>\n",
       "  <th>Covariance Type:</th>      <td>nonrobust</td>    <th>                     </th>     <td> </td>    \n",
       "</tr>\n",
       "</table>\n",
       "<table class=\"simpletable\">\n",
       "<tr>\n",
       "          <td></td>            <th>coef</th>     <th>std err</th>      <th>t</th>      <th>P>|t|</th>  <th>[0.025</th>    <th>0.975]</th>  \n",
       "</tr>\n",
       "<tr>\n",
       "  <th>Intercept</th>        <td>-5.673e+05</td> <td> 7.74e+04</td> <td>   -7.327</td> <td> 0.000</td> <td>-7.19e+05</td> <td>-4.15e+05</td>\n",
       "</tr>\n",
       "<tr>\n",
       "  <th>log_sqft</th>         <td> 1.267e+05</td> <td> 1.13e+04</td> <td>   11.231</td> <td> 0.000</td> <td> 1.05e+05</td> <td> 1.49e+05</td>\n",
       "</tr>\n",
       "<tr>\n",
       "  <th>bathrooms_minmax</th> <td> 1.654e+05</td> <td> 3.36e+04</td> <td>    4.921</td> <td> 0.000</td> <td> 9.95e+04</td> <td> 2.31e+05</td>\n",
       "</tr>\n",
       "</table>\n",
       "<table class=\"simpletable\">\n",
       "<tr>\n",
       "  <th>Omnibus:</th>       <td>493.018</td> <th>  Durbin-Watson:     </th> <td>   1.923</td> \n",
       "</tr>\n",
       "<tr>\n",
       "  <th>Prob(Omnibus):</th> <td> 0.000</td>  <th>  Jarque-Bera (JB):  </th> <td> 729.292</td> \n",
       "</tr>\n",
       "<tr>\n",
       "  <th>Skew:</th>          <td> 0.902</td>  <th>  Prob(JB):          </th> <td>4.33e-159</td>\n",
       "</tr>\n",
       "<tr>\n",
       "  <th>Kurtosis:</th>      <td> 4.047</td>  <th>  Cond. No.          </th> <td>    276.</td> \n",
       "</tr>\n",
       "</table><br/><br/>Notes:<br/>[1] Standard Errors assume that the covariance matrix of the errors is correctly specified."
      ],
      "text/plain": [
       "<class 'statsmodels.iolib.summary.Summary'>\n",
       "\"\"\"\n",
       "                            OLS Regression Results                            \n",
       "==============================================================================\n",
       "Dep. Variable:                  price   R-squared:                       0.059\n",
       "Model:                            OLS   Adj. R-squared:                  0.058\n",
       "Method:                 Least Squares   F-statistic:                     125.4\n",
       "Date:                Wed, 17 Nov 2021   Prob (F-statistic):           1.46e-53\n",
       "Time:                        15:57:01   Log-Likelihood:                -53090.\n",
       "No. Observations:                4025   AIC:                         1.062e+05\n",
       "Df Residuals:                    4022   BIC:                         1.062e+05\n",
       "Df Model:                           2                                         \n",
       "Covariance Type:            nonrobust                                         \n",
       "====================================================================================\n",
       "                       coef    std err          t      P>|t|      [0.025      0.975]\n",
       "------------------------------------------------------------------------------------\n",
       "Intercept        -5.673e+05   7.74e+04     -7.327      0.000   -7.19e+05   -4.15e+05\n",
       "log_sqft          1.267e+05   1.13e+04     11.231      0.000    1.05e+05    1.49e+05\n",
       "bathrooms_minmax  1.654e+05   3.36e+04      4.921      0.000    9.95e+04    2.31e+05\n",
       "==============================================================================\n",
       "Omnibus:                      493.018   Durbin-Watson:                   1.923\n",
       "Prob(Omnibus):                  0.000   Jarque-Bera (JB):              729.292\n",
       "Skew:                           0.902   Prob(JB):                    4.33e-159\n",
       "Kurtosis:                       4.047   Cond. No.                         276.\n",
       "==============================================================================\n",
       "\n",
       "Notes:\n",
       "[1] Standard Errors assume that the covariance matrix of the errors is correctly specified.\n",
       "\"\"\""
      ]
     },
     "execution_count": 91,
     "metadata": {},
     "output_type": "execute_result"
    }
   ],
   "source": [
    "formula = 'price ~ log_sqft + bathrooms_minmax'\n",
    "model = ols(formula=formula, data=df_scaled_2).fit()\n",
    "model.summary()"
   ]
  },
  {
   "cell_type": "code",
   "execution_count": 99,
   "metadata": {},
   "outputs": [
    {
     "data": {
      "text/plain": [
       "0.06835994313071814"
      ]
     },
     "execution_count": 99,
     "metadata": {},
     "output_type": "execute_result"
    }
   ],
   "source": [
    "x_new_simple_2= df_scaled_2[['sqft_living', 'bathrooms_minmax']]\n",
    "y_new_simple_2= (df_scaled_2['price'])\n",
    "\n",
    "x_train_simple_2, x_test_simple_2, y_train_simple_2, y_test_simple_2 = train_test_split(x_new_simple_2, y_new_simple_2, random_state=100)\n",
    "\n",
    "linreg.fit(x_train_simple_2, y_train_simple_2)\n",
    "linreg.score(x_test_simple_2, y_test_simple_2)"
   ]
  },
  {
   "cell_type": "code",
   "execution_count": 100,
   "metadata": {},
   "outputs": [
    {
     "data": {
      "text/plain": [
       "0.05373934881664122"
      ]
     },
     "execution_count": 100,
     "metadata": {},
     "output_type": "execute_result"
    }
   ],
   "source": [
    "linreg.score(x_train_simple_2, y_train_simple_2)"
   ]
  },
  {
   "cell_type": "code",
   "execution_count": 101,
   "metadata": {},
   "outputs": [
    {
     "name": "stdout",
     "output_type": "stream",
     "text": [
      "15229725593.064392\n",
      "123408.77437631569\n"
     ]
    }
   ],
   "source": [
    "error = linreg.predict(x_test_simple_2)-y_test_simple_2\n",
    "sq_of_err=(error)**2\n",
    "mean_sqr_of_errors=sq_of_err.mean()\n",
    "print(mean_sqr_of_errors)\n",
    "sqr_mean_sqr_errors= np.sqrt(mean_sqr_of_errors)\n",
    "print(sqr_mean_sqr_errors)"
   ]
  },
  {
   "cell_type": "code",
   "execution_count": 96,
   "metadata": {},
   "outputs": [
    {
     "data": {
      "image/png": "[encoded data removed]",
      "text/plain": [
       "<Figure size 432x288 with 1 Axes>"
      ]
     },
     "metadata": {
      "needs_background": "light"
     },
     "output_type": "display_data"
    }
   ],
   "source": [
    "ypred3 = linreg.predict(x_test_simple_2)\n",
    "plt.scatter(ypred3, y_test_simple_2)\n",
    "plt.scatter(y_test_simple_2 , y_test_simple_2);"
   ]
  },
  {
   "cell_type": "code",
   "execution_count": 97,
   "metadata": {},
   "outputs": [
    {
     "data": {
      "text/plain": [
       "0.4878037057576745"
      ]
     },
     "execution_count": 97,
     "metadata": {},
     "output_type": "execute_result"
    }
   ],
   "source": [
    "\n",
    "\n",
    "x_new_simple_2= df_scaled[['sqft_living', 'bathrooms_minmax']]\n",
    "y_new_simple_2= df_scaled['price']\n",
    "\n",
    "x_train_simple_2, x_test_simple_2, y_train_simple_2, y_test_simple_2 = train_test_split(x_new_simple_2, y_new_simple_2, random_state=100)\n",
    "\n",
    "linreg.fit(x_train_simple_2, y_train_simple_2)\n",
    "linreg.score(x_test_simple_2, y_test_simple_2)"
   ]
  },
  {
   "cell_type": "code",
   "execution_count": null,
   "metadata": {},
   "outputs": [],
   "source": []
  },
  {
   "cell_type": "code",
   "execution_count": null,
   "metadata": {},
   "outputs": [],
   "source": []
  },
  {
   "cell_type": "code",
   "execution_count": null,
   "metadata": {},
   "outputs": [],
   "source": []
  },
  {
   "cell_type": "code",
   "execution_count": 98,
   "metadata": {},
   "outputs": [
    {
     "data": {
      "image/png": "[encoded data removed]",
      "text/plain": [
       "<Figure size 432x288 with 1 Axes>"
      ]
     },
     "metadata": {
      "needs_background": "light"
     },
     "output_type": "display_data"
    }
   ],
   "source": [
    "ypred3 = linreg.predict(x_test_simple_2)\n",
    "plt.scatter(ypred3, y_test_simple_2)\n",
    "plt.scatter(y_test_simple_2 , y_test_simple_2);"
   ]
  },
  {
   "cell_type": "code",
   "execution_count": null,
   "metadata": {},
   "outputs": [],
   "source": []
  },
  {
   "cell_type": "code",
   "execution_count": null,
   "metadata": {},
   "outputs": [],
   "source": []
  }
 ],
 "metadata": {
  "kernelspec": {
   "display_name": "Python (learn-env)",
   "language": "python",
   "name": "learn-env"
  },
  "language_info": {
   "codemirror_mode": {
    "name": "ipython",
    "version": 3
   },
   "file_extension": ".py",
   "mimetype": "text/x-python",
   "name": "python",
   "nbconvert_exporter": "python",
   "pygments_lexer": "ipython3",
   "version": "3.8.5"
  }
 },
 "nbformat": 4,
 "nbformat_minor": 4
}
